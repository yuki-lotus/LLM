{
  "cells": [
    {
      "cell_type": "markdown",
      "metadata": {
        "id": "NKv-mAnWb1xi"
      },
      "source": [
        "## 使用QLORA訓練白話文和文言文互轉的模型(台大資工所2024年應用深度學習作業3)\n",
        "### 1. 作業目標\n",
        "- 本次作業目標是使用QLORA訓練一個白話文和文言文互轉的模型。\n",
        "- 使用的基礎模型是`zake7749/gemma-2-2b-it-chinese-kyara-dpo`，這是一個Google Gemma2經過Instrunction Tuned及DPO之後的模型。\n",
        "- 本次作業的資料集是台大資工作業提供的，並沒有經過資料清理，是用簡體硬轉成繁體的，資料集問題很多，這是一個包含白話文和文言文的資料集。\n",
        "### 2. 作業步驟\n",
        "- 本次作業的步驟如下：\n",
        "  1. 資料前處理\n",
        "  2. 使用QLORA訓練模型\n",
        "  3. 模型測試\n",
        "### 3. 訓練監控\n",
        "- 本次作業的訓練監控如下：\n",
        "  1. 訓練過程中的loss\n",
        "  2. 使用wandb記錄訓練過程\n",
        "  3. 調整各種參數觀察訓練結果\n"
      ]
    },
    {
      "cell_type": "code",
      "source": [
        "!pip install transformers datasets torch bitsandbytes peft wandb trl flash-attn nvidia-ml-py3"
      ],
      "metadata": {
        "id": "6RgeHrj4cIC8",
        "colab": {
          "base_uri": "https://localhost:8080/"
        },
        "outputId": "9e486d68-8260-4e45-fb4d-357e93ecac7f"
      },
      "execution_count": 1,
      "outputs": [
        {
          "output_type": "stream",
          "name": "stdout",
          "text": [
            "Requirement already satisfied: transformers in /usr/local/lib/python3.11/dist-packages (4.50.3)\n",
            "Collecting datasets\n",
            "  Downloading datasets-3.5.0-py3-none-any.whl.metadata (19 kB)\n",
            "Requirement already satisfied: torch in /usr/local/lib/python3.11/dist-packages (2.6.0+cu124)\n",
            "Collecting bitsandbytes\n",
            "  Downloading bitsandbytes-0.45.5-py3-none-manylinux_2_24_x86_64.whl.metadata (5.0 kB)\n",
            "Requirement already satisfied: peft in /usr/local/lib/python3.11/dist-packages (0.14.0)\n",
            "Requirement already satisfied: wandb in /usr/local/lib/python3.11/dist-packages (0.19.9)\n",
            "Collecting trl\n",
            "  Downloading trl-0.16.1-py3-none-any.whl.metadata (12 kB)\n",
            "Collecting flash-attn\n",
            "  Downloading flash_attn-2.7.4.post1.tar.gz (6.0 MB)\n",
            "\u001b[2K     \u001b[90m━━━━━━━━━━━━━━━━━━━━━━━━━━━━━━━━━━━━━━━━\u001b[0m \u001b[32m6.0/6.0 MB\u001b[0m \u001b[31m55.1 MB/s\u001b[0m eta \u001b[36m0:00:00\u001b[0m\n",
            "\u001b[?25h  Preparing metadata (setup.py) ... \u001b[?25l\u001b[?25hdone\n",
            "Collecting nvidia-ml-py3\n",
            "  Downloading nvidia-ml-py3-7.352.0.tar.gz (19 kB)\n",
            "  Preparing metadata (setup.py) ... \u001b[?25l\u001b[?25hdone\n",
            "Requirement already satisfied: filelock in /usr/local/lib/python3.11/dist-packages (from transformers) (3.18.0)\n",
            "Requirement already satisfied: huggingface-hub<1.0,>=0.26.0 in /usr/local/lib/python3.11/dist-packages (from transformers) (0.30.1)\n",
            "Requirement already satisfied: numpy>=1.17 in /usr/local/lib/python3.11/dist-packages (from transformers) (2.0.2)\n",
            "Requirement already satisfied: packaging>=20.0 in /usr/local/lib/python3.11/dist-packages (from transformers) (24.2)\n",
            "Requirement already satisfied: pyyaml>=5.1 in /usr/local/lib/python3.11/dist-packages (from transformers) (6.0.2)\n",
            "Requirement already satisfied: regex!=2019.12.17 in /usr/local/lib/python3.11/dist-packages (from transformers) (2024.11.6)\n",
            "Requirement already satisfied: requests in /usr/local/lib/python3.11/dist-packages (from transformers) (2.32.3)\n",
            "Requirement already satisfied: tokenizers<0.22,>=0.21 in /usr/local/lib/python3.11/dist-packages (from transformers) (0.21.1)\n",
            "Requirement already satisfied: safetensors>=0.4.3 in /usr/local/lib/python3.11/dist-packages (from transformers) (0.5.3)\n",
            "Requirement already satisfied: tqdm>=4.27 in /usr/local/lib/python3.11/dist-packages (from transformers) (4.67.1)\n",
            "Requirement already satisfied: pyarrow>=15.0.0 in /usr/local/lib/python3.11/dist-packages (from datasets) (18.1.0)\n",
            "Collecting dill<0.3.9,>=0.3.0 (from datasets)\n",
            "  Downloading dill-0.3.8-py3-none-any.whl.metadata (10 kB)\n",
            "Requirement already satisfied: pandas in /usr/local/lib/python3.11/dist-packages (from datasets) (2.2.2)\n",
            "Collecting xxhash (from datasets)\n",
            "  Downloading xxhash-3.5.0-cp311-cp311-manylinux_2_17_x86_64.manylinux2014_x86_64.whl.metadata (12 kB)\n",
            "Collecting multiprocess<0.70.17 (from datasets)\n",
            "  Downloading multiprocess-0.70.16-py311-none-any.whl.metadata (7.2 kB)\n",
            "Collecting fsspec<=2024.12.0,>=2023.1.0 (from fsspec[http]<=2024.12.0,>=2023.1.0->datasets)\n",
            "  Downloading fsspec-2024.12.0-py3-none-any.whl.metadata (11 kB)\n",
            "Requirement already satisfied: aiohttp in /usr/local/lib/python3.11/dist-packages (from datasets) (3.11.15)\n",
            "Requirement already satisfied: typing-extensions>=4.10.0 in /usr/local/lib/python3.11/dist-packages (from torch) (4.13.1)\n",
            "Requirement already satisfied: networkx in /usr/local/lib/python3.11/dist-packages (from torch) (3.4.2)\n",
            "Requirement already satisfied: jinja2 in /usr/local/lib/python3.11/dist-packages (from torch) (3.1.6)\n",
            "Collecting nvidia-cuda-nvrtc-cu12==12.4.127 (from torch)\n",
            "  Downloading nvidia_cuda_nvrtc_cu12-12.4.127-py3-none-manylinux2014_x86_64.whl.metadata (1.5 kB)\n",
            "Collecting nvidia-cuda-runtime-cu12==12.4.127 (from torch)\n",
            "  Downloading nvidia_cuda_runtime_cu12-12.4.127-py3-none-manylinux2014_x86_64.whl.metadata (1.5 kB)\n",
            "Collecting nvidia-cuda-cupti-cu12==12.4.127 (from torch)\n",
            "  Downloading nvidia_cuda_cupti_cu12-12.4.127-py3-none-manylinux2014_x86_64.whl.metadata (1.6 kB)\n",
            "Collecting nvidia-cudnn-cu12==9.1.0.70 (from torch)\n",
            "  Downloading nvidia_cudnn_cu12-9.1.0.70-py3-none-manylinux2014_x86_64.whl.metadata (1.6 kB)\n",
            "Collecting nvidia-cublas-cu12==12.4.5.8 (from torch)\n",
            "  Downloading nvidia_cublas_cu12-12.4.5.8-py3-none-manylinux2014_x86_64.whl.metadata (1.5 kB)\n",
            "Collecting nvidia-cufft-cu12==11.2.1.3 (from torch)\n",
            "  Downloading nvidia_cufft_cu12-11.2.1.3-py3-none-manylinux2014_x86_64.whl.metadata (1.5 kB)\n",
            "Collecting nvidia-curand-cu12==10.3.5.147 (from torch)\n",
            "  Downloading nvidia_curand_cu12-10.3.5.147-py3-none-manylinux2014_x86_64.whl.metadata (1.5 kB)\n",
            "Collecting nvidia-cusolver-cu12==11.6.1.9 (from torch)\n",
            "  Downloading nvidia_cusolver_cu12-11.6.1.9-py3-none-manylinux2014_x86_64.whl.metadata (1.6 kB)\n",
            "Collecting nvidia-cusparse-cu12==12.3.1.170 (from torch)\n",
            "  Downloading nvidia_cusparse_cu12-12.3.1.170-py3-none-manylinux2014_x86_64.whl.metadata (1.6 kB)\n",
            "Requirement already satisfied: nvidia-cusparselt-cu12==0.6.2 in /usr/local/lib/python3.11/dist-packages (from torch) (0.6.2)\n",
            "Requirement already satisfied: nvidia-nccl-cu12==2.21.5 in /usr/local/lib/python3.11/dist-packages (from torch) (2.21.5)\n",
            "Requirement already satisfied: nvidia-nvtx-cu12==12.4.127 in /usr/local/lib/python3.11/dist-packages (from torch) (12.4.127)\n",
            "Collecting nvidia-nvjitlink-cu12==12.4.127 (from torch)\n",
            "  Downloading nvidia_nvjitlink_cu12-12.4.127-py3-none-manylinux2014_x86_64.whl.metadata (1.5 kB)\n",
            "Requirement already satisfied: triton==3.2.0 in /usr/local/lib/python3.11/dist-packages (from torch) (3.2.0)\n",
            "Requirement already satisfied: sympy==1.13.1 in /usr/local/lib/python3.11/dist-packages (from torch) (1.13.1)\n",
            "Requirement already satisfied: mpmath<1.4,>=1.1.0 in /usr/local/lib/python3.11/dist-packages (from sympy==1.13.1->torch) (1.3.0)\n",
            "Requirement already satisfied: psutil in /usr/local/lib/python3.11/dist-packages (from peft) (5.9.5)\n",
            "Requirement already satisfied: accelerate>=0.21.0 in /usr/local/lib/python3.11/dist-packages (from peft) (1.5.2)\n",
            "Requirement already satisfied: click!=8.0.0,>=7.1 in /usr/local/lib/python3.11/dist-packages (from wandb) (8.1.8)\n",
            "Requirement already satisfied: docker-pycreds>=0.4.0 in /usr/local/lib/python3.11/dist-packages (from wandb) (0.4.0)\n",
            "Requirement already satisfied: gitpython!=3.1.29,>=1.0.0 in /usr/local/lib/python3.11/dist-packages (from wandb) (3.1.44)\n",
            "Requirement already satisfied: platformdirs in /usr/local/lib/python3.11/dist-packages (from wandb) (4.3.7)\n",
            "Requirement already satisfied: protobuf!=4.21.0,!=5.28.0,<6,>=3.19.0 in /usr/local/lib/python3.11/dist-packages (from wandb) (5.29.4)\n",
            "Requirement already satisfied: pydantic<3 in /usr/local/lib/python3.11/dist-packages (from wandb) (2.11.2)\n",
            "Requirement already satisfied: sentry-sdk>=2.0.0 in /usr/local/lib/python3.11/dist-packages (from wandb) (2.25.1)\n",
            "Requirement already satisfied: setproctitle in /usr/local/lib/python3.11/dist-packages (from wandb) (1.3.5)\n",
            "Requirement already satisfied: setuptools in /usr/local/lib/python3.11/dist-packages (from wandb) (75.2.0)\n",
            "Requirement already satisfied: rich in /usr/local/lib/python3.11/dist-packages (from trl) (13.9.4)\n",
            "Requirement already satisfied: einops in /usr/local/lib/python3.11/dist-packages (from flash-attn) (0.8.1)\n",
            "Requirement already satisfied: six>=1.4.0 in /usr/local/lib/python3.11/dist-packages (from docker-pycreds>=0.4.0->wandb) (1.17.0)\n",
            "Requirement already satisfied: aiohappyeyeballs>=2.3.0 in /usr/local/lib/python3.11/dist-packages (from aiohttp->datasets) (2.6.1)\n",
            "Requirement already satisfied: aiosignal>=1.1.2 in /usr/local/lib/python3.11/dist-packages (from aiohttp->datasets) (1.3.2)\n",
            "Requirement already satisfied: attrs>=17.3.0 in /usr/local/lib/python3.11/dist-packages (from aiohttp->datasets) (25.3.0)\n",
            "Requirement already satisfied: frozenlist>=1.1.1 in /usr/local/lib/python3.11/dist-packages (from aiohttp->datasets) (1.5.0)\n",
            "Requirement already satisfied: multidict<7.0,>=4.5 in /usr/local/lib/python3.11/dist-packages (from aiohttp->datasets) (6.2.0)\n",
            "Requirement already satisfied: propcache>=0.2.0 in /usr/local/lib/python3.11/dist-packages (from aiohttp->datasets) (0.3.1)\n",
            "Requirement already satisfied: yarl<2.0,>=1.17.0 in /usr/local/lib/python3.11/dist-packages (from aiohttp->datasets) (1.18.3)\n",
            "Requirement already satisfied: gitdb<5,>=4.0.1 in /usr/local/lib/python3.11/dist-packages (from gitpython!=3.1.29,>=1.0.0->wandb) (4.0.12)\n",
            "Requirement already satisfied: annotated-types>=0.6.0 in /usr/local/lib/python3.11/dist-packages (from pydantic<3->wandb) (0.7.0)\n",
            "Requirement already satisfied: pydantic-core==2.33.1 in /usr/local/lib/python3.11/dist-packages (from pydantic<3->wandb) (2.33.1)\n",
            "Requirement already satisfied: typing-inspection>=0.4.0 in /usr/local/lib/python3.11/dist-packages (from pydantic<3->wandb) (0.4.0)\n",
            "Requirement already satisfied: charset-normalizer<4,>=2 in /usr/local/lib/python3.11/dist-packages (from requests->transformers) (3.4.1)\n",
            "Requirement already satisfied: idna<4,>=2.5 in /usr/local/lib/python3.11/dist-packages (from requests->transformers) (3.10)\n",
            "Requirement already satisfied: urllib3<3,>=1.21.1 in /usr/local/lib/python3.11/dist-packages (from requests->transformers) (2.3.0)\n",
            "Requirement already satisfied: certifi>=2017.4.17 in /usr/local/lib/python3.11/dist-packages (from requests->transformers) (2025.1.31)\n",
            "Requirement already satisfied: MarkupSafe>=2.0 in /usr/local/lib/python3.11/dist-packages (from jinja2->torch) (3.0.2)\n",
            "Requirement already satisfied: python-dateutil>=2.8.2 in /usr/local/lib/python3.11/dist-packages (from pandas->datasets) (2.8.2)\n",
            "Requirement already satisfied: pytz>=2020.1 in /usr/local/lib/python3.11/dist-packages (from pandas->datasets) (2025.2)\n",
            "Requirement already satisfied: tzdata>=2022.7 in /usr/local/lib/python3.11/dist-packages (from pandas->datasets) (2025.2)\n",
            "Requirement already satisfied: markdown-it-py>=2.2.0 in /usr/local/lib/python3.11/dist-packages (from rich->trl) (3.0.0)\n",
            "Requirement already satisfied: pygments<3.0.0,>=2.13.0 in /usr/local/lib/python3.11/dist-packages (from rich->trl) (2.18.0)\n",
            "Requirement already satisfied: smmap<6,>=3.0.1 in /usr/local/lib/python3.11/dist-packages (from gitdb<5,>=4.0.1->gitpython!=3.1.29,>=1.0.0->wandb) (5.0.2)\n",
            "Requirement already satisfied: mdurl~=0.1 in /usr/local/lib/python3.11/dist-packages (from markdown-it-py>=2.2.0->rich->trl) (0.1.2)\n",
            "Downloading datasets-3.5.0-py3-none-any.whl (491 kB)\n",
            "\u001b[2K   \u001b[90m━━━━━━━━━━━━━━━━━━━━━━━━━━━━━━━━━━━━━━━━\u001b[0m \u001b[32m491.2/491.2 kB\u001b[0m \u001b[31m37.0 MB/s\u001b[0m eta \u001b[36m0:00:00\u001b[0m\n",
            "\u001b[?25hDownloading nvidia_cublas_cu12-12.4.5.8-py3-none-manylinux2014_x86_64.whl (363.4 MB)\n",
            "\u001b[2K   \u001b[90m━━━━━━━━━━━━━━━━━━━━━━━━━━━━━━━━━━━━━━━━\u001b[0m \u001b[32m363.4/363.4 MB\u001b[0m \u001b[31m4.0 MB/s\u001b[0m eta \u001b[36m0:00:00\u001b[0m\n",
            "\u001b[?25hDownloading nvidia_cuda_cupti_cu12-12.4.127-py3-none-manylinux2014_x86_64.whl (13.8 MB)\n",
            "\u001b[2K   \u001b[90m━━━━━━━━━━━━━━━━━━━━━━━━━━━━━━━━━━━━━━━━\u001b[0m \u001b[32m13.8/13.8 MB\u001b[0m \u001b[31m89.5 MB/s\u001b[0m eta \u001b[36m0:00:00\u001b[0m\n",
            "\u001b[?25hDownloading nvidia_cuda_nvrtc_cu12-12.4.127-py3-none-manylinux2014_x86_64.whl (24.6 MB)\n",
            "\u001b[2K   \u001b[90m━━━━━━━━━━━━━━━━━━━━━━━━━━━━━━━━━━━━━━━━\u001b[0m \u001b[32m24.6/24.6 MB\u001b[0m \u001b[31m65.0 MB/s\u001b[0m eta \u001b[36m0:00:00\u001b[0m\n",
            "\u001b[?25hDownloading nvidia_cuda_runtime_cu12-12.4.127-py3-none-manylinux2014_x86_64.whl (883 kB)\n",
            "\u001b[2K   \u001b[90m━━━━━━━━━━━━━━━━━━━━━━━━━━━━━━━━━━━━━━━━\u001b[0m \u001b[32m883.7/883.7 kB\u001b[0m \u001b[31m56.6 MB/s\u001b[0m eta \u001b[36m0:00:00\u001b[0m\n",
            "\u001b[?25hDownloading nvidia_cudnn_cu12-9.1.0.70-py3-none-manylinux2014_x86_64.whl (664.8 MB)\n",
            "\u001b[2K   \u001b[90m━━━━━━━━━━━━━━━━━━━━━━━━━━━━━━━━━━━━━━━━\u001b[0m \u001b[32m664.8/664.8 MB\u001b[0m \u001b[31m2.6 MB/s\u001b[0m eta \u001b[36m0:00:00\u001b[0m\n",
            "\u001b[?25hDownloading nvidia_cufft_cu12-11.2.1.3-py3-none-manylinux2014_x86_64.whl (211.5 MB)\n",
            "\u001b[2K   \u001b[90m━━━━━━━━━━━━━━━━━━━━━━━━━━━━━━━━━━━━━━━━\u001b[0m \u001b[32m211.5/211.5 MB\u001b[0m \u001b[31m6.0 MB/s\u001b[0m eta \u001b[36m0:00:00\u001b[0m\n",
            "\u001b[?25hDownloading nvidia_curand_cu12-10.3.5.147-py3-none-manylinux2014_x86_64.whl (56.3 MB)\n",
            "\u001b[2K   \u001b[90m━━━━━━━━━━━━━━━━━━━━━━━━━━━━━━━━━━━━━━━━\u001b[0m \u001b[32m56.3/56.3 MB\u001b[0m \u001b[31m13.1 MB/s\u001b[0m eta \u001b[36m0:00:00\u001b[0m\n",
            "\u001b[?25hDownloading nvidia_cusolver_cu12-11.6.1.9-py3-none-manylinux2014_x86_64.whl (127.9 MB)\n",
            "\u001b[2K   \u001b[90m━━━━━━━━━━━━━━━━━━━━━━━━━━━━━━━━━━━━━━━━\u001b[0m \u001b[32m127.9/127.9 MB\u001b[0m \u001b[31m7.4 MB/s\u001b[0m eta \u001b[36m0:00:00\u001b[0m\n",
            "\u001b[?25hDownloading nvidia_cusparse_cu12-12.3.1.170-py3-none-manylinux2014_x86_64.whl (207.5 MB)\n",
            "\u001b[2K   \u001b[90m━━━━━━━━━━━━━━━━━━━━━━━━━━━━━━━━━━━━━━━━\u001b[0m \u001b[32m207.5/207.5 MB\u001b[0m \u001b[31m5.8 MB/s\u001b[0m eta \u001b[36m0:00:00\u001b[0m\n",
            "\u001b[?25hDownloading nvidia_nvjitlink_cu12-12.4.127-py3-none-manylinux2014_x86_64.whl (21.1 MB)\n",
            "\u001b[2K   \u001b[90m━━━━━━━━━━━━━━━━━━━━━━━━━━━━━━━━━━━━━━━━\u001b[0m \u001b[32m21.1/21.1 MB\u001b[0m \u001b[31m75.1 MB/s\u001b[0m eta \u001b[36m0:00:00\u001b[0m\n",
            "\u001b[?25hDownloading bitsandbytes-0.45.5-py3-none-manylinux_2_24_x86_64.whl (76.1 MB)\n",
            "\u001b[2K   \u001b[90m━━━━━━━━━━━━━━━━━━━━━━━━━━━━━━━━━━━━━━━━\u001b[0m \u001b[32m76.1/76.1 MB\u001b[0m \u001b[31m9.7 MB/s\u001b[0m eta \u001b[36m0:00:00\u001b[0m\n",
            "\u001b[?25hDownloading trl-0.16.1-py3-none-any.whl (336 kB)\n",
            "\u001b[2K   \u001b[90m━━━━━━━━━━━━━━━━━━━━━━━━━━━━━━━━━━━━━━━━\u001b[0m \u001b[32m336.4/336.4 kB\u001b[0m \u001b[31m30.3 MB/s\u001b[0m eta \u001b[36m0:00:00\u001b[0m\n",
            "\u001b[?25hDownloading dill-0.3.8-py3-none-any.whl (116 kB)\n",
            "\u001b[2K   \u001b[90m━━━━━━━━━━━━━━━━━━━━━━━━━━━━━━━━━━━━━━━━\u001b[0m \u001b[32m116.3/116.3 kB\u001b[0m \u001b[31m13.7 MB/s\u001b[0m eta \u001b[36m0:00:00\u001b[0m\n",
            "\u001b[?25hDownloading fsspec-2024.12.0-py3-none-any.whl (183 kB)\n",
            "\u001b[2K   \u001b[90m━━━━━━━━━━━━━━━━━━━━━━━━━━━━━━━━━━━━━━━━\u001b[0m \u001b[32m183.9/183.9 kB\u001b[0m \u001b[31m18.8 MB/s\u001b[0m eta \u001b[36m0:00:00\u001b[0m\n",
            "\u001b[?25hDownloading multiprocess-0.70.16-py311-none-any.whl (143 kB)\n",
            "\u001b[2K   \u001b[90m━━━━━━━━━━━━━━━━━━━━━━━━━━━━━━━━━━━━━━━━\u001b[0m \u001b[32m143.5/143.5 kB\u001b[0m \u001b[31m17.3 MB/s\u001b[0m eta \u001b[36m0:00:00\u001b[0m\n",
            "\u001b[?25hDownloading xxhash-3.5.0-cp311-cp311-manylinux_2_17_x86_64.manylinux2014_x86_64.whl (194 kB)\n",
            "\u001b[2K   \u001b[90m━━━━━━━━━━━━━━━━━━━━━━━━━━━━━━━━━━━━━━━━\u001b[0m \u001b[32m194.8/194.8 kB\u001b[0m \u001b[31m21.4 MB/s\u001b[0m eta \u001b[36m0:00:00\u001b[0m\n",
            "\u001b[?25hBuilding wheels for collected packages: flash-attn, nvidia-ml-py3\n",
            "  Building wheel for flash-attn (setup.py) ... \u001b[?25l\u001b[?25hdone\n",
            "  Created wheel for flash-attn: filename=flash_attn-2.7.4.post1-cp311-cp311-linux_x86_64.whl size=187831595 sha256=58853b28a5a926cae14402bfd8d4d93a45ebf8f9e79533f37ab09d0d77a99c05\n",
            "  Stored in directory: /root/.cache/pip/wheels/3d/88/d8/284b89f56af7d5bf366b10d6b8e251ac8a7c7bf3f04203fb4f\n",
            "  Building wheel for nvidia-ml-py3 (setup.py) ... \u001b[?25l\u001b[?25hdone\n",
            "  Created wheel for nvidia-ml-py3: filename=nvidia_ml_py3-7.352.0-py3-none-any.whl size=19172 sha256=55823394db1ceffcf9bb86c5ab33a8188b5119d8ea383b441326db01b6910ca9\n",
            "  Stored in directory: /root/.cache/pip/wheels/47/50/9e/29dc79037d74c3c1bb4a8661fb608e8674b7e4260d6a3f8f51\n",
            "Successfully built flash-attn nvidia-ml-py3\n",
            "Installing collected packages: nvidia-ml-py3, xxhash, nvidia-nvjitlink-cu12, nvidia-curand-cu12, nvidia-cufft-cu12, nvidia-cuda-runtime-cu12, nvidia-cuda-nvrtc-cu12, nvidia-cuda-cupti-cu12, nvidia-cublas-cu12, fsspec, dill, nvidia-cusparse-cu12, nvidia-cudnn-cu12, multiprocess, nvidia-cusolver-cu12, datasets, flash-attn, bitsandbytes, trl\n",
            "  Attempting uninstall: nvidia-nvjitlink-cu12\n",
            "    Found existing installation: nvidia-nvjitlink-cu12 12.5.82\n",
            "    Uninstalling nvidia-nvjitlink-cu12-12.5.82:\n",
            "      Successfully uninstalled nvidia-nvjitlink-cu12-12.5.82\n",
            "  Attempting uninstall: nvidia-curand-cu12\n",
            "    Found existing installation: nvidia-curand-cu12 10.3.6.82\n",
            "    Uninstalling nvidia-curand-cu12-10.3.6.82:\n",
            "      Successfully uninstalled nvidia-curand-cu12-10.3.6.82\n",
            "  Attempting uninstall: nvidia-cufft-cu12\n",
            "    Found existing installation: nvidia-cufft-cu12 11.2.3.61\n",
            "    Uninstalling nvidia-cufft-cu12-11.2.3.61:\n",
            "      Successfully uninstalled nvidia-cufft-cu12-11.2.3.61\n",
            "  Attempting uninstall: nvidia-cuda-runtime-cu12\n",
            "    Found existing installation: nvidia-cuda-runtime-cu12 12.5.82\n",
            "    Uninstalling nvidia-cuda-runtime-cu12-12.5.82:\n",
            "      Successfully uninstalled nvidia-cuda-runtime-cu12-12.5.82\n",
            "  Attempting uninstall: nvidia-cuda-nvrtc-cu12\n",
            "    Found existing installation: nvidia-cuda-nvrtc-cu12 12.5.82\n",
            "    Uninstalling nvidia-cuda-nvrtc-cu12-12.5.82:\n",
            "      Successfully uninstalled nvidia-cuda-nvrtc-cu12-12.5.82\n",
            "  Attempting uninstall: nvidia-cuda-cupti-cu12\n",
            "    Found existing installation: nvidia-cuda-cupti-cu12 12.5.82\n",
            "    Uninstalling nvidia-cuda-cupti-cu12-12.5.82:\n",
            "      Successfully uninstalled nvidia-cuda-cupti-cu12-12.5.82\n",
            "  Attempting uninstall: nvidia-cublas-cu12\n",
            "    Found existing installation: nvidia-cublas-cu12 12.5.3.2\n",
            "    Uninstalling nvidia-cublas-cu12-12.5.3.2:\n",
            "      Successfully uninstalled nvidia-cublas-cu12-12.5.3.2\n",
            "  Attempting uninstall: fsspec\n",
            "    Found existing installation: fsspec 2025.3.2\n",
            "    Uninstalling fsspec-2025.3.2:\n",
            "      Successfully uninstalled fsspec-2025.3.2\n",
            "  Attempting uninstall: nvidia-cusparse-cu12\n",
            "    Found existing installation: nvidia-cusparse-cu12 12.5.1.3\n",
            "    Uninstalling nvidia-cusparse-cu12-12.5.1.3:\n",
            "      Successfully uninstalled nvidia-cusparse-cu12-12.5.1.3\n",
            "  Attempting uninstall: nvidia-cudnn-cu12\n",
            "    Found existing installation: nvidia-cudnn-cu12 9.3.0.75\n",
            "    Uninstalling nvidia-cudnn-cu12-9.3.0.75:\n",
            "      Successfully uninstalled nvidia-cudnn-cu12-9.3.0.75\n",
            "  Attempting uninstall: nvidia-cusolver-cu12\n",
            "    Found existing installation: nvidia-cusolver-cu12 11.6.3.83\n",
            "    Uninstalling nvidia-cusolver-cu12-11.6.3.83:\n",
            "      Successfully uninstalled nvidia-cusolver-cu12-11.6.3.83\n",
            "\u001b[31mERROR: pip's dependency resolver does not currently take into account all the packages that are installed. This behaviour is the source of the following dependency conflicts.\n",
            "gcsfs 2025.3.2 requires fsspec==2025.3.2, but you have fsspec 2024.12.0 which is incompatible.\u001b[0m\u001b[31m\n",
            "\u001b[0mSuccessfully installed bitsandbytes-0.45.5 datasets-3.5.0 dill-0.3.8 flash-attn-2.7.4.post1 fsspec-2024.12.0 multiprocess-0.70.16 nvidia-cublas-cu12-12.4.5.8 nvidia-cuda-cupti-cu12-12.4.127 nvidia-cuda-nvrtc-cu12-12.4.127 nvidia-cuda-runtime-cu12-12.4.127 nvidia-cudnn-cu12-9.1.0.70 nvidia-cufft-cu12-11.2.1.3 nvidia-curand-cu12-10.3.5.147 nvidia-cusolver-cu12-11.6.1.9 nvidia-cusparse-cu12-12.3.1.170 nvidia-ml-py3-7.352.0 nvidia-nvjitlink-cu12-12.4.127 trl-0.16.1 xxhash-3.5.0\n"
          ]
        }
      ]
    },
    {
      "cell_type": "markdown",
      "source": [
        "## 抓取訓練資料，裡面包含五萬筆白話文->文言文資料"
      ],
      "metadata": {
        "id": "UISiuk-SxAy8"
      }
    },
    {
      "cell_type": "code",
      "execution_count": 2,
      "metadata": {
        "id": "UodQ8ObNb1xj",
        "colab": {
          "base_uri": "https://localhost:8080/"
        },
        "outputId": "0733a700-115a-43d8-dabb-e80230479d92"
      },
      "outputs": [
        {
          "output_type": "stream",
          "name": "stdout",
          "text": [
            "--2025-04-09 02:50:50--  https://github.com/shhuangmust/AI/raw/refs/heads/master/train.json\n",
            "Resolving github.com (github.com)... 20.205.243.166\n",
            "Connecting to github.com (github.com)|20.205.243.166|:443... connected.\n",
            "HTTP request sent, awaiting response... 302 Found\n",
            "Location: https://raw.githubusercontent.com/shhuangmust/AI/refs/heads/master/train.json [following]\n",
            "--2025-04-09 02:50:50--  https://raw.githubusercontent.com/shhuangmust/AI/refs/heads/master/train.json\n",
            "Resolving raw.githubusercontent.com (raw.githubusercontent.com)... 185.199.108.133, 185.199.109.133, 185.199.110.133, ...\n",
            "Connecting to raw.githubusercontent.com (raw.githubusercontent.com)|185.199.108.133|:443... connected.\n",
            "HTTP request sent, awaiting response... 200 OK\n",
            "Length: 2940614 (2.8M) [application/octet-stream]\n",
            "Saving to: ‘train.json’\n",
            "\n",
            "train.json          100%[===================>]   2.80M  --.-KB/s    in 0.01s   \n",
            "\n",
            "2025-04-09 02:50:51 (196 MB/s) - ‘train.json’ saved [2940614/2940614]\n",
            "\n"
          ]
        }
      ],
      "source": [
        "!wget https://github.com/shhuangmust/AI/raw/refs/heads/master/train.json"
      ]
    },
    {
      "cell_type": "markdown",
      "source": [
        "- 採用gemma-2-2b-it-chinese-kyara-dpo基礎模型\n",
        "- 4bit的量化模型來節省訓練記憶體\n",
        "- 要產生文言文，因此採用AutoModelForCausalLM"
      ],
      "metadata": {
        "id": "OJ_jfTmUxN-B"
      }
    },
    {
      "cell_type": "code",
      "execution_count": 3,
      "metadata": {
        "id": "ki1l-JCDb1xl",
        "colab": {
          "base_uri": "https://localhost:8080/",
          "height": 872,
          "referenced_widgets": [
            "f530e01784954d6d8a784f8443fc2c5d",
            "2c374e5a384f41189d1a7df60671f8a3",
            "5c1fc341de7e46f68930ea0387111dce",
            "8d638de5dd3d45b8be60d0072948ca7f",
            "b7197cbfae654de2aca231889a497553",
            "2a980649d4134a2c8c86c5f324b85fad",
            "3b11899ad43844c99832da346b0ff90e",
            "787d384f97c342879d4c0b0b21ce1d67",
            "9221835903754bb389929dee8f484a6a",
            "cba834d179ed47d0ac5cd4ac0d52e100",
            "2b2d2837b79341e19cd84d460e6111ae",
            "79d5b2a827164fd6be735c1e8ace67d0",
            "6ffdd0dd17994c13b5ed8636ed06f31c",
            "dc355f516d324dbdb2801958fb85b3f6",
            "807efc2c9df749fe93255377cdfb64ed",
            "c8d620e098ac43d5b1d8ac8d49ebdada",
            "9fb966ebf667480290020aea3b62ab31",
            "cc40d2060107490b91613381f3bfd8ba",
            "152d9a464ea6418bbf7b0a1baa432426",
            "3f10def5a7a8410faa1f6ec76c70fdd1",
            "c8577d814e3c4de0acc254dc60b10702",
            "9cdbd94c2001473ab0306ad373caf1cc",
            "1f22721cb00d45b3b231b17d33c9b0e9",
            "8bfeeca6720d456bb03617be853515c9",
            "63399a65c3ab4bd3b2617f41554592e0",
            "5904004c1eab44189c4178a1c443bb8f",
            "0be8dc9b68ab49eab45390d8aa7e2043",
            "347deece55994b54ab01efffb475ed28",
            "985cfd2a5f36455291314e2fc8b5f0d8",
            "b500c48b7d49487c9052ed3d52775621",
            "133a8313f9a2453fb2e1b607e11a799f",
            "d273d7cd69c34fe5a99bcc510cb93868",
            "f39836a8fd2d466780d9447c9fda0a74",
            "6427feb4699942998884344af1085e1f",
            "6381cb931b244d23a18c1904b76aa994",
            "0f7471e942a246fe822ad052792f1187",
            "28adb0b268774eb6ad457af46457f076",
            "3772e0838aa941acb6eac5580b03eac5",
            "1d4fa4c568fd4b2ca75f32278528fefd",
            "fdb84b7ee1d94f90b369450972531f94",
            "76cd255ae566418eab37971da61abfb1",
            "5a23a6e07e3449b4aae69e986410ae14",
            "b4e488865da140d69a7bb3241c35daa1",
            "0abc69452d2041e1ba70d62a1d05f27f",
            "fdbeff50fc5c412e84bfdb33258a6a04",
            "a6e90d478e2f4edb98163a8571a43c3a",
            "eca347a089a8415c8f1e41536984d6a0",
            "92554069049946618b06d5320c3a1128",
            "c17aad72300f4a74ae20db3ce3891048",
            "dcb986d858824f0b93f702215dd0a9e3",
            "34d98c99170d45e9916e8e70ef3c7cf7",
            "e9041b11d6a24eb19538ff6741d596a3",
            "e10cb267edc14ed0914dc7075d2ee1c5",
            "4b69d3995055436380f5b364f033da76",
            "4e1ba6bb5bf74353a24ad35a4f928a1c",
            "78fdfb5f1f8249c096e79f9b315d734a",
            "3f335f8f80174278b0a2648c2152a38a",
            "58e4767b2f6c461b999fd1148ae74805",
            "62a36dddc2414845a6eba07fe628a19a",
            "5e571b40bff149efba71ba7e5823e63f",
            "235bf2e81f4545ca8f5dd2d49448b566",
            "89fbf4246538475889935ddd45969630",
            "caf3dac04c2c4d139e054ad5f2caa1aa",
            "62d68098638545f9a4e6323360be3348",
            "3ca11e5418464f46b5182b2d84b05baf",
            "84c6f134eb4f45d09d8535fc6339e555",
            "0f77b94fac714baf995857515eda55cd",
            "88e85aed0e764b1795358893e8e7c8d0",
            "c92892abebc743a98d679c39f63e065e",
            "9c4ee33a92194b0ca262c70017f6ff73",
            "ce7efebf9590442ba084d9dd01a294e9",
            "06c33a4995ed4adea2fde8518f35b27b",
            "36af1af9bb014faf9072bf27e48cccb9",
            "152d7d3a718d413492ea7a291d4ecc56",
            "b974f43fca1f4cc1b43a5786fa29a56f",
            "784fb45ecbd1416cbcf148db45445730",
            "11024bda5ff041be87a0a58148d1eae3",
            "a7a8b437f33d44cdb61332d781d6d5b8",
            "5403fada86bd45978be2f8a22f515eff",
            "04d736572408409fa450af908cdb759c",
            "7d151aac268d404b9a7822caeb76a553",
            "0992cb32929e4eaf9e2fa6c980c611d3",
            "031e036586684055af81dc47a7e7c921",
            "e4e6a5182d5640c580d3187d5f61a642",
            "c65a6917fcc041a6a1411a715072b84f",
            "ad6d57b23d4047f380d299474cd33300",
            "ded863d1b37649d092f3ef4c8ae29ec6",
            "5b956bc5bbe14cebb936699b6899cb13",
            "dee99e5e285f4f28b102e0dd502a80c4",
            "59b73d71c80d4aaab0ec228aa815ac08",
            "f06ae020474046558abf1c406c2aa520",
            "b770e3070a6a49dbb3db54a804f18f2a",
            "e38a3c2a8e2646e2b31248248e5dfe6b",
            "9e6810ffb855441eb03fdb0b5a97a2c6",
            "45f679a239684aa9ad0727eca6642e56",
            "9247511ce11b47e095812e99c6d79112",
            "2779fa435ebc45079157be1c6f36ce7e",
            "87a56c66aeb748b3bc34ab57530d91be",
            "6af5bf77e9554b9cab2fdb5d8e48739a",
            "14365cc7a88741bc976041faa1a5df53",
            "b0fc282ea0c84ff38680f45be4dcbf39",
            "2fb4dd2dcf7747ebbab827195283b539",
            "28bd3542003a477393a7a8e99a36f208",
            "ffdf97eb93b840a1a29e8e49a78a43b5",
            "7b629f382cd4405f8a9879ff9e7d87d7",
            "1f1da1f1a27f48cca889a8665ec93e15",
            "83b9a59a2a9b4d149a23147754885137",
            "8c5db8faeb5946458f7c03d94fee83d8",
            "7284499865b3469f9db4675b53e9a1ab",
            "4c52c9e199034858ab3f064d318b914f",
            "99ea7688dfdb4ece874e54c4698c1af7",
            "e83909f33b7f4300ae83e40468b5f553",
            "85f744b4f08f4d4eb296523303da20f7",
            "89b3fc2352cc4ec5845b1221bbe165e6",
            "a91a4a88615f4ff7904662cfa4e7e81c",
            "935afde20abd4f2dbd0cf94a6a15a602",
            "8618112472c3478d825de974dac93c69",
            "4ad86c8beca147c780e0f7459ca5cefb",
            "5c68f96fa40c49b1a26f2402462dacb9",
            "2b08f4cfd1ca497ba48b1ccda5610c69",
            "2833b4c94c8f4785846c353956591c6b"
          ]
        },
        "outputId": "5ab76ae0-5bc3-4aab-a54b-7e34aa42ae55"
      },
      "outputs": [
        {
          "output_type": "display_data",
          "data": {
            "text/plain": [
              "config.json:   0%|          | 0.00/818 [00:00<?, ?B/s]"
            ],
            "application/vnd.jupyter.widget-view+json": {
              "version_major": 2,
              "version_minor": 0,
              "model_id": "f530e01784954d6d8a784f8443fc2c5d"
            }
          },
          "metadata": {}
        },
        {
          "output_type": "stream",
          "name": "stderr",
          "text": [
            "`low_cpu_mem_usage` was None, now default to True since model is quantized.\n"
          ]
        },
        {
          "output_type": "display_data",
          "data": {
            "text/plain": [
              "model.safetensors.index.json:   0%|          | 0.00/24.2k [00:00<?, ?B/s]"
            ],
            "application/vnd.jupyter.widget-view+json": {
              "version_major": 2,
              "version_minor": 0,
              "model_id": "79d5b2a827164fd6be735c1e8ace67d0"
            }
          },
          "metadata": {}
        },
        {
          "output_type": "display_data",
          "data": {
            "text/plain": [
              "Fetching 3 files:   0%|          | 0/3 [00:00<?, ?it/s]"
            ],
            "application/vnd.jupyter.widget-view+json": {
              "version_major": 2,
              "version_minor": 0,
              "model_id": "1f22721cb00d45b3b231b17d33c9b0e9"
            }
          },
          "metadata": {}
        },
        {
          "output_type": "display_data",
          "data": {
            "text/plain": [
              "model-00003-of-00003.safetensors:   0%|          | 0.00/481M [00:00<?, ?B/s]"
            ],
            "application/vnd.jupyter.widget-view+json": {
              "version_major": 2,
              "version_minor": 0,
              "model_id": "6427feb4699942998884344af1085e1f"
            }
          },
          "metadata": {}
        },
        {
          "output_type": "display_data",
          "data": {
            "text/plain": [
              "model-00002-of-00003.safetensors:   0%|          | 0.00/4.98G [00:00<?, ?B/s]"
            ],
            "application/vnd.jupyter.widget-view+json": {
              "version_major": 2,
              "version_minor": 0,
              "model_id": "fdbeff50fc5c412e84bfdb33258a6a04"
            }
          },
          "metadata": {}
        },
        {
          "output_type": "display_data",
          "data": {
            "text/plain": [
              "model-00001-of-00003.safetensors:   0%|          | 0.00/4.99G [00:00<?, ?B/s]"
            ],
            "application/vnd.jupyter.widget-view+json": {
              "version_major": 2,
              "version_minor": 0,
              "model_id": "78fdfb5f1f8249c096e79f9b315d734a"
            }
          },
          "metadata": {}
        },
        {
          "output_type": "display_data",
          "data": {
            "text/plain": [
              "Loading checkpoint shards:   0%|          | 0/3 [00:00<?, ?it/s]"
            ],
            "application/vnd.jupyter.widget-view+json": {
              "version_major": 2,
              "version_minor": 0,
              "model_id": "0f77b94fac714baf995857515eda55cd"
            }
          },
          "metadata": {}
        },
        {
          "output_type": "display_data",
          "data": {
            "text/plain": [
              "generation_config.json:   0%|          | 0.00/208 [00:00<?, ?B/s]"
            ],
            "application/vnd.jupyter.widget-view+json": {
              "version_major": 2,
              "version_minor": 0,
              "model_id": "a7a8b437f33d44cdb61332d781d6d5b8"
            }
          },
          "metadata": {}
        },
        {
          "output_type": "display_data",
          "data": {
            "text/plain": [
              "tokenizer_config.json:   0%|          | 0.00/47.1k [00:00<?, ?B/s]"
            ],
            "application/vnd.jupyter.widget-view+json": {
              "version_major": 2,
              "version_minor": 0,
              "model_id": "dee99e5e285f4f28b102e0dd502a80c4"
            }
          },
          "metadata": {}
        },
        {
          "output_type": "display_data",
          "data": {
            "text/plain": [
              "tokenizer.json:   0%|          | 0.00/34.4M [00:00<?, ?B/s]"
            ],
            "application/vnd.jupyter.widget-view+json": {
              "version_major": 2,
              "version_minor": 0,
              "model_id": "14365cc7a88741bc976041faa1a5df53"
            }
          },
          "metadata": {}
        },
        {
          "output_type": "display_data",
          "data": {
            "text/plain": [
              "special_tokens_map.json:   0%|          | 0.00/636 [00:00<?, ?B/s]"
            ],
            "application/vnd.jupyter.widget-view+json": {
              "version_major": 2,
              "version_minor": 0,
              "model_id": "99ea7688dfdb4ece874e54c4698c1af7"
            }
          },
          "metadata": {}
        },
        {
          "output_type": "execute_result",
          "data": {
            "text/plain": [
              "Gemma2ForCausalLM(\n",
              "  (model): Gemma2Model(\n",
              "    (embed_tokens): Embedding(256000, 2304, padding_idx=0)\n",
              "    (layers): ModuleList(\n",
              "      (0-25): 26 x Gemma2DecoderLayer(\n",
              "        (self_attn): Gemma2Attention(\n",
              "          (q_proj): Linear4bit(in_features=2304, out_features=2048, bias=False)\n",
              "          (k_proj): Linear4bit(in_features=2304, out_features=1024, bias=False)\n",
              "          (v_proj): Linear4bit(in_features=2304, out_features=1024, bias=False)\n",
              "          (o_proj): Linear4bit(in_features=2048, out_features=2304, bias=False)\n",
              "        )\n",
              "        (mlp): Gemma2MLP(\n",
              "          (gate_proj): Linear4bit(in_features=2304, out_features=9216, bias=False)\n",
              "          (up_proj): Linear4bit(in_features=2304, out_features=9216, bias=False)\n",
              "          (down_proj): Linear4bit(in_features=9216, out_features=2304, bias=False)\n",
              "          (act_fn): PytorchGELUTanh()\n",
              "        )\n",
              "        (input_layernorm): Gemma2RMSNorm((2304,), eps=1e-06)\n",
              "        (post_attention_layernorm): Gemma2RMSNorm((2304,), eps=1e-06)\n",
              "        (pre_feedforward_layernorm): Gemma2RMSNorm((2304,), eps=1e-06)\n",
              "        (post_feedforward_layernorm): Gemma2RMSNorm((2304,), eps=1e-06)\n",
              "      )\n",
              "    )\n",
              "    (norm): Gemma2RMSNorm((2304,), eps=1e-06)\n",
              "    (rotary_emb): Gemma2RotaryEmbedding()\n",
              "  )\n",
              "  (lm_head): Linear(in_features=2304, out_features=256000, bias=False)\n",
              ")"
            ]
          },
          "metadata": {},
          "execution_count": 3
        }
      ],
      "source": [
        "import torch\n",
        "from transformers import AutoTokenizer, AutoModelForCausalLM, BitsAndBytesConfig\n",
        "\n",
        "bnb_config = BitsAndBytesConfig(\n",
        "    load_in_4bit=True,\n",
        "    bnb_4bit_use_double_quant=True,\n",
        "    bnb_4bit_quant_type=\"nf4\",\n",
        "    bnb_4bit_compute_dtype=torch.bfloat16\n",
        ")\n",
        "model_id = \"zake7749/gemma-2-2b-it-chinese-kyara-dpo\"\n",
        "\n",
        "\n",
        "\n",
        "model = AutoModelForCausalLM.from_pretrained(model_id, quantization_config=bnb_config,\n",
        "                      attn_implementation='eager',\n",
        "                      cache_implementation=None,\n",
        "                      use_cache=False,)\n",
        "\n",
        "tokenizer = AutoTokenizer.from_pretrained(model_id, add_eos_token=True)\n",
        "model.to('cuda')"
      ]
    },
    {
      "cell_type": "code",
      "execution_count": 4,
      "metadata": {
        "id": "HylCGpuGb1xl",
        "colab": {
          "base_uri": "https://localhost:8080/"
        },
        "outputId": "2e30adb2-8f98-4433-810f-9ebc31e38558"
      },
      "outputs": [
        {
          "output_type": "stream",
          "name": "stdout",
          "text": [
            "Gemma2ForCausalLM(\n",
            "  (model): Gemma2Model(\n",
            "    (embed_tokens): Embedding(256000, 2304, padding_idx=0)\n",
            "    (layers): ModuleList(\n",
            "      (0-25): 26 x Gemma2DecoderLayer(\n",
            "        (self_attn): Gemma2Attention(\n",
            "          (q_proj): Linear4bit(in_features=2304, out_features=2048, bias=False)\n",
            "          (k_proj): Linear4bit(in_features=2304, out_features=1024, bias=False)\n",
            "          (v_proj): Linear4bit(in_features=2304, out_features=1024, bias=False)\n",
            "          (o_proj): Linear4bit(in_features=2048, out_features=2304, bias=False)\n",
            "        )\n",
            "        (mlp): Gemma2MLP(\n",
            "          (gate_proj): Linear4bit(in_features=2304, out_features=9216, bias=False)\n",
            "          (up_proj): Linear4bit(in_features=2304, out_features=9216, bias=False)\n",
            "          (down_proj): Linear4bit(in_features=9216, out_features=2304, bias=False)\n",
            "          (act_fn): PytorchGELUTanh()\n",
            "        )\n",
            "        (input_layernorm): Gemma2RMSNorm((2304,), eps=1e-06)\n",
            "        (post_attention_layernorm): Gemma2RMSNorm((2304,), eps=1e-06)\n",
            "        (pre_feedforward_layernorm): Gemma2RMSNorm((2304,), eps=1e-06)\n",
            "        (post_feedforward_layernorm): Gemma2RMSNorm((2304,), eps=1e-06)\n",
            "      )\n",
            "    )\n",
            "    (norm): Gemma2RMSNorm((2304,), eps=1e-06)\n",
            "    (rotary_emb): Gemma2RotaryEmbedding()\n",
            "  )\n",
            "  (lm_head): Linear(in_features=2304, out_features=256000, bias=False)\n",
            ")\n"
          ]
        }
      ],
      "source": [
        "print(model)"
      ]
    },
    {
      "cell_type": "markdown",
      "source": [
        "## 讀取資料\n",
        "- 將資料轉換成gemma2的讀取格式"
      ],
      "metadata": {
        "id": "FFuu9LBQxydS"
      }
    },
    {
      "cell_type": "code",
      "execution_count": 5,
      "metadata": {
        "id": "ThBea1skb1xl",
        "colab": {
          "base_uri": "https://localhost:8080/",
          "height": 113,
          "referenced_widgets": [
            "d886932a8f7a49d2b9a15bfcdd35cd29",
            "b169357139f14ea3b40724832dd8bc72",
            "07c4a59f64924618af45edca94c89c4b",
            "ead93e08d4244f11a26312fc825e80db",
            "9d7d17a5ccff44b5a4750eed8902120b",
            "2c07e8a04c104bca9c029b9c7e9e0a43",
            "b4b8664d1abd4b03bc5fb0ecf3445d12",
            "bb1c9a32b0dc47a5bd551e156393fe9a",
            "5df8f8ec36254d4c86fe2655a39adde4",
            "d00982ef7d3643c8960c74f0ddf608cf",
            "dd5a86af970f4f0abc3d58610931f8f1",
            "1dc3606e45214534b05e8db519efcaa5",
            "fb8711f481e34db1911fa8178fb51235",
            "760f657512f34e8d9a7efde48a63099b",
            "1570ed14b6c04f2fa13a7d5d3d8f0c6f",
            "9b532f1ab5bc44c086f7ffdb993dd33a",
            "55c19e1fee1743f1a1ee2e8e9753ae1d",
            "0cc0aee1e8d946cc8a3759e611e0f6c0",
            "94c9595b36b040ed882d2c5302fc20ee",
            "78ebfe441d2f47929005c1ca45f757ef",
            "84a9d8c06e6c448c8671cb445421f81d",
            "c84cfb6a5c9e43b29f16df216518f455",
            "87123c0723854f7ab690b9a4ff7c1223",
            "84ba499f14b2448094d8b9066cede9ce",
            "60211453896140b9bb2bc298e9c116a8",
            "4c5bcfb08f7145f49a92b71fe1cf48cd",
            "4e1ba2dcb75546da8ed4a033dc0f6891",
            "188307b7d94440f6b19b0dc1e20ac246",
            "7187c0d68a39439e93a367485f7712e6",
            "186cf175fcc046c5823dd948ad0eb76d",
            "56afd2218c3f4000add23c675f7d8029",
            "b456f81da1934892be417092f0c1da88",
            "211c5a2d4603456594885dd7cc79cf3c"
          ]
        },
        "outputId": "6b7aaf16-b70e-4c18-c7be-855c9d2a9879"
      },
      "outputs": [
        {
          "output_type": "display_data",
          "data": {
            "text/plain": [
              "Generating train split: 0 examples [00:00, ? examples/s]"
            ],
            "application/vnd.jupyter.widget-view+json": {
              "version_major": 2,
              "version_minor": 0,
              "model_id": "d886932a8f7a49d2b9a15bfcdd35cd29"
            }
          },
          "metadata": {}
        },
        {
          "output_type": "display_data",
          "data": {
            "text/plain": [
              "Flattening the indices:   0%|          | 0/10000 [00:00<?, ? examples/s]"
            ],
            "application/vnd.jupyter.widget-view+json": {
              "version_major": 2,
              "version_minor": 0,
              "model_id": "1dc3606e45214534b05e8db519efcaa5"
            }
          },
          "metadata": {}
        },
        {
          "output_type": "display_data",
          "data": {
            "text/plain": [
              "Map:   0%|          | 0/10000 [00:00<?, ? examples/s]"
            ],
            "application/vnd.jupyter.widget-view+json": {
              "version_major": 2,
              "version_minor": 0,
              "model_id": "87123c0723854f7ab690b9a4ff7c1223"
            }
          },
          "metadata": {}
        }
      ],
      "source": [
        "from datasets import load_dataset\n",
        "dataset = load_dataset('json', data_files=\"train.json\", split=\"train\").shuffle(seed=42)\n",
        "\n",
        "def generate_prompt(data_point):\n",
        "    prefix_text = '你是一個使用繁體中文的人工智慧助理，下面是問題的描述，以及對應的答案，請照著問題並且回答答案。\\n\\n'\n",
        "    text = f\"<start_of_turn>user {prefix_text} {data_point['instruction']} <end_of_turn>\\n<start_of_turn>model {data_point['output']} <end_of_turn>\"\n",
        "    return text\n",
        "# Add the 'prompt' column to the dataset\n",
        "text_column = [generate_prompt(data_point) for data_point in dataset]\n",
        "dataset = dataset.add_column(\"prompt\", text_column)\n",
        "# Tokenize the dataset\n",
        "dataset = dataset.shuffle(seed=1234)\n",
        "dataset = dataset.map(lambda samples: tokenizer(samples[\"prompt\"]), batched=True)\n",
        "# Split the dataset into training and testing\n",
        "dataset = dataset.train_test_split(test_size=0.2)\n",
        "train_data = dataset[\"train\"]\n",
        "test_data = dataset[\"test\"]"
      ]
    },
    {
      "cell_type": "code",
      "execution_count": 6,
      "metadata": {
        "id": "9hz9pDKUb1xl",
        "colab": {
          "base_uri": "https://localhost:8080/"
        },
        "outputId": "63d031a9-0dd6-4cd5-d09b-e561383556f6"
      },
      "outputs": [
        {
          "output_type": "stream",
          "name": "stdout",
          "text": [
            "{'id': '30e71b38-9fe4-4e70-8853-94508427e45c', 'instruction': '文言文翻譯：\\n八月壬子朔，罷黃陵堈招撫司。', 'output': '答案：八月初一，廢除黃陵聏招撫司。', 'prompt': '<start_of_turn>user 你是一個使用繁體中文的人工智慧助理，下面是問題的描述，以及對應的答案，請照著問題並且回答答案。\\n\\n 文言文翻譯：\\n八月壬子朔，罷黃陵堈招撫司。 <end_of_turn>\\n<start_of_turn>model 答案：八月初一，廢除黃陵聏招撫司。 <end_of_turn>', 'input_ids': [2, 106, 1645, 30485, 115346, 7060, 238249, 236969, 50039, 11043, 235823, 68631, 141771, 235365, 45992, 235427, 17974, 235370, 35875, 235365, 21318, 236583, 237236, 235370, 48310, 235365, 237261, 236160, 236523, 17974, 144100, 33226, 48310, 235362, 109, 36233, 235904, 235642, 204032, 235465, 108, 174161, 242028, 235535, 241175, 235365, 241685, 238175, 239201, 446, 377, 353, 237219, 241086, 236195, 235362, 235248, 107, 108, 106, 2516, 235248, 48310, 235465, 174161, 236107, 235411, 235365, 240553, 236232, 238175, 239201, 449, 346, 360, 237219, 241086, 236195, 235362, 235248, 107, 1], 'attention_mask': [1, 1, 1, 1, 1, 1, 1, 1, 1, 1, 1, 1, 1, 1, 1, 1, 1, 1, 1, 1, 1, 1, 1, 1, 1, 1, 1, 1, 1, 1, 1, 1, 1, 1, 1, 1, 1, 1, 1, 1, 1, 1, 1, 1, 1, 1, 1, 1, 1, 1, 1, 1, 1, 1, 1, 1, 1, 1, 1, 1, 1, 1, 1, 1, 1, 1, 1, 1, 1, 1, 1, 1, 1, 1, 1, 1, 1, 1, 1, 1, 1, 1]}\n"
          ]
        }
      ],
      "source": [
        "print(train_data[200])"
      ]
    },
    {
      "cell_type": "markdown",
      "source": [
        "## 找出所有可以進行QLora訓練的層"
      ],
      "metadata": {
        "id": "4ir_3zrRygV0"
      }
    },
    {
      "cell_type": "code",
      "execution_count": 7,
      "metadata": {
        "id": "rlEN6S6Pb1xm"
      },
      "outputs": [],
      "source": [
        "def find_all_linear_names(peft_model, int4=False, int8=False):\n",
        "    \"\"\"Find all linear layer names in the model. reference from qlora paper.\"\"\"\n",
        "    cls = torch.nn.Linear\n",
        "    if int4 or int8:\n",
        "        import bitsandbytes as bnb\n",
        "        if int4:\n",
        "            cls = bnb.nn.Linear4bit\n",
        "        elif int8:\n",
        "            cls = bnb.nn.Linear8bitLt\n",
        "    lora_module_names = set()\n",
        "    for name, module in peft_model.named_modules():\n",
        "        if isinstance(module, cls):\n",
        "            # last layer is not add to lora_module_names\n",
        "            if 'lm_head' in name:\n",
        "                continue\n",
        "            if 'output_layer' in name:\n",
        "                continue\n",
        "            names = name.split('.')\n",
        "            lora_module_names.add(names[0] if len(names) == 1 else names[-1])\n",
        "    return sorted(lora_module_names)"
      ]
    },
    {
      "cell_type": "code",
      "execution_count": 8,
      "metadata": {
        "id": "zB3zMk14b1xm"
      },
      "outputs": [],
      "source": [
        "from peft import LoraConfig, PeftModel, prepare_model_for_kbit_training, get_peft_model\n",
        "\n",
        "model.enable_input_require_grads()\n",
        "model.gradient_checkpointing_enable()\n",
        "\n",
        "model = prepare_model_for_kbit_training(model)\n",
        "modules = find_all_linear_names(model)  # Get modules to apply LoRA to\n",
        "lora_config = LoraConfig(\n",
        "    r=64,\n",
        "    lora_alpha=32,\n",
        "    target_modules=modules,\n",
        "    lora_dropout=0.05,\n",
        "    bias=\"none\",\n",
        "    task_type=\"CAUSAL_LM\"\n",
        ")\n",
        "peft_model = get_peft_model(model, lora_config)"
      ]
    },
    {
      "cell_type": "code",
      "execution_count": 9,
      "metadata": {
        "id": "HTAZzE00b1xm",
        "colab": {
          "base_uri": "https://localhost:8080/"
        },
        "outputId": "fc66b115-9bfc-4dc0-f975-0eb93608d883"
      },
      "outputs": [
        {
          "output_type": "stream",
          "name": "stdout",
          "text": [
            "PeftModelForCausalLM(\n",
            "  (base_model): LoraModel(\n",
            "    (model): Gemma2ForCausalLM(\n",
            "      (model): Gemma2Model(\n",
            "        (embed_tokens): Embedding(256000, 2304, padding_idx=0)\n",
            "        (layers): ModuleList(\n",
            "          (0-25): 26 x Gemma2DecoderLayer(\n",
            "            (self_attn): Gemma2Attention(\n",
            "              (q_proj): lora.Linear4bit(\n",
            "                (base_layer): Linear4bit(in_features=2304, out_features=2048, bias=False)\n",
            "                (lora_dropout): ModuleDict(\n",
            "                  (default): Dropout(p=0.05, inplace=False)\n",
            "                )\n",
            "                (lora_A): ModuleDict(\n",
            "                  (default): Linear(in_features=2304, out_features=64, bias=False)\n",
            "                )\n",
            "                (lora_B): ModuleDict(\n",
            "                  (default): Linear(in_features=64, out_features=2048, bias=False)\n",
            "                )\n",
            "                (lora_embedding_A): ParameterDict()\n",
            "                (lora_embedding_B): ParameterDict()\n",
            "                (lora_magnitude_vector): ModuleDict()\n",
            "              )\n",
            "              (k_proj): lora.Linear4bit(\n",
            "                (base_layer): Linear4bit(in_features=2304, out_features=1024, bias=False)\n",
            "                (lora_dropout): ModuleDict(\n",
            "                  (default): Dropout(p=0.05, inplace=False)\n",
            "                )\n",
            "                (lora_A): ModuleDict(\n",
            "                  (default): Linear(in_features=2304, out_features=64, bias=False)\n",
            "                )\n",
            "                (lora_B): ModuleDict(\n",
            "                  (default): Linear(in_features=64, out_features=1024, bias=False)\n",
            "                )\n",
            "                (lora_embedding_A): ParameterDict()\n",
            "                (lora_embedding_B): ParameterDict()\n",
            "                (lora_magnitude_vector): ModuleDict()\n",
            "              )\n",
            "              (v_proj): lora.Linear4bit(\n",
            "                (base_layer): Linear4bit(in_features=2304, out_features=1024, bias=False)\n",
            "                (lora_dropout): ModuleDict(\n",
            "                  (default): Dropout(p=0.05, inplace=False)\n",
            "                )\n",
            "                (lora_A): ModuleDict(\n",
            "                  (default): Linear(in_features=2304, out_features=64, bias=False)\n",
            "                )\n",
            "                (lora_B): ModuleDict(\n",
            "                  (default): Linear(in_features=64, out_features=1024, bias=False)\n",
            "                )\n",
            "                (lora_embedding_A): ParameterDict()\n",
            "                (lora_embedding_B): ParameterDict()\n",
            "                (lora_magnitude_vector): ModuleDict()\n",
            "              )\n",
            "              (o_proj): lora.Linear4bit(\n",
            "                (base_layer): Linear4bit(in_features=2048, out_features=2304, bias=False)\n",
            "                (lora_dropout): ModuleDict(\n",
            "                  (default): Dropout(p=0.05, inplace=False)\n",
            "                )\n",
            "                (lora_A): ModuleDict(\n",
            "                  (default): Linear(in_features=2048, out_features=64, bias=False)\n",
            "                )\n",
            "                (lora_B): ModuleDict(\n",
            "                  (default): Linear(in_features=64, out_features=2304, bias=False)\n",
            "                )\n",
            "                (lora_embedding_A): ParameterDict()\n",
            "                (lora_embedding_B): ParameterDict()\n",
            "                (lora_magnitude_vector): ModuleDict()\n",
            "              )\n",
            "            )\n",
            "            (mlp): Gemma2MLP(\n",
            "              (gate_proj): lora.Linear4bit(\n",
            "                (base_layer): Linear4bit(in_features=2304, out_features=9216, bias=False)\n",
            "                (lora_dropout): ModuleDict(\n",
            "                  (default): Dropout(p=0.05, inplace=False)\n",
            "                )\n",
            "                (lora_A): ModuleDict(\n",
            "                  (default): Linear(in_features=2304, out_features=64, bias=False)\n",
            "                )\n",
            "                (lora_B): ModuleDict(\n",
            "                  (default): Linear(in_features=64, out_features=9216, bias=False)\n",
            "                )\n",
            "                (lora_embedding_A): ParameterDict()\n",
            "                (lora_embedding_B): ParameterDict()\n",
            "                (lora_magnitude_vector): ModuleDict()\n",
            "              )\n",
            "              (up_proj): lora.Linear4bit(\n",
            "                (base_layer): Linear4bit(in_features=2304, out_features=9216, bias=False)\n",
            "                (lora_dropout): ModuleDict(\n",
            "                  (default): Dropout(p=0.05, inplace=False)\n",
            "                )\n",
            "                (lora_A): ModuleDict(\n",
            "                  (default): Linear(in_features=2304, out_features=64, bias=False)\n",
            "                )\n",
            "                (lora_B): ModuleDict(\n",
            "                  (default): Linear(in_features=64, out_features=9216, bias=False)\n",
            "                )\n",
            "                (lora_embedding_A): ParameterDict()\n",
            "                (lora_embedding_B): ParameterDict()\n",
            "                (lora_magnitude_vector): ModuleDict()\n",
            "              )\n",
            "              (down_proj): lora.Linear4bit(\n",
            "                (base_layer): Linear4bit(in_features=9216, out_features=2304, bias=False)\n",
            "                (lora_dropout): ModuleDict(\n",
            "                  (default): Dropout(p=0.05, inplace=False)\n",
            "                )\n",
            "                (lora_A): ModuleDict(\n",
            "                  (default): Linear(in_features=9216, out_features=64, bias=False)\n",
            "                )\n",
            "                (lora_B): ModuleDict(\n",
            "                  (default): Linear(in_features=64, out_features=2304, bias=False)\n",
            "                )\n",
            "                (lora_embedding_A): ParameterDict()\n",
            "                (lora_embedding_B): ParameterDict()\n",
            "                (lora_magnitude_vector): ModuleDict()\n",
            "              )\n",
            "              (act_fn): PytorchGELUTanh()\n",
            "            )\n",
            "            (input_layernorm): Gemma2RMSNorm((2304,), eps=1e-06)\n",
            "            (post_attention_layernorm): Gemma2RMSNorm((2304,), eps=1e-06)\n",
            "            (pre_feedforward_layernorm): Gemma2RMSNorm((2304,), eps=1e-06)\n",
            "            (post_feedforward_layernorm): Gemma2RMSNorm((2304,), eps=1e-06)\n",
            "          )\n",
            "        )\n",
            "        (norm): Gemma2RMSNorm((2304,), eps=1e-06)\n",
            "        (rotary_emb): Gemma2RotaryEmbedding()\n",
            "      )\n",
            "      (lm_head): Linear(in_features=2304, out_features=256000, bias=False)\n",
            "    )\n",
            "  )\n",
            ")\n"
          ]
        }
      ],
      "source": [
        "print(peft_model)"
      ]
    },
    {
      "cell_type": "markdown",
      "source": [
        "## 列出可訓練的參數數目跟比例"
      ],
      "metadata": {
        "id": "vlhGllIhyx-b"
      }
    },
    {
      "cell_type": "code",
      "execution_count": 10,
      "metadata": {
        "id": "i7Q0CKGQb1xm",
        "colab": {
          "base_uri": "https://localhost:8080/"
        },
        "outputId": "26e89d61-f337-43c5-88ce-8aa9ede78b8d"
      },
      "outputs": [
        {
          "output_type": "stream",
          "name": "stdout",
          "text": [
            "trainable params: 83,066,880 || all params: 2,697,408,768 || trainable%: 3.0795\n"
          ]
        }
      ],
      "source": [
        "peft_model.print_trainable_parameters()"
      ]
    },
    {
      "cell_type": "code",
      "execution_count": 11,
      "metadata": {
        "id": "b8NE1E6kb1xm",
        "colab": {
          "base_uri": "https://localhost:8080/"
        },
        "outputId": "6478e773-4fb0-4836-f2bf-94845cb8dda7"
      },
      "outputs": [
        {
          "output_type": "stream",
          "name": "stdout",
          "text": [
            "['down_proj', 'gate_proj', 'k_proj', 'o_proj', 'q_proj', 'up_proj', 'v_proj']\n"
          ]
        }
      ],
      "source": [
        "print(modules)"
      ]
    },
    {
      "cell_type": "markdown",
      "source": [
        "## 進行PEFT訓練\n",
        "- 採用trl套件\n",
        "- 可修改max_steps以調整訓練次數"
      ],
      "metadata": {
        "id": "Xp7vA-ZtzATF"
      }
    },
    {
      "cell_type": "code",
      "execution_count": 14,
      "metadata": {
        "id": "nWwZuur1b1xm",
        "colab": {
          "base_uri": "https://localhost:8080/",
          "height": 1000
        },
        "outputId": "f087ed47-d3c1-4e9e-b452-c1c1c8ec1cfb"
      },
      "outputs": [
        {
          "output_type": "stream",
          "name": "stderr",
          "text": [
            "No label_names provided for model class `PeftModelForCausalLM`. Since `PeftModel` hides base models input arguments, if label_names is not given, label_names can't be set automatically within `Trainer`. Note that empty label_names list will be used instead.\n"
          ]
        },
        {
          "output_type": "display_data",
          "data": {
            "text/plain": [
              "<IPython.core.display.Javascript object>"
            ],
            "application/javascript": [
              "\n",
              "        window._wandbApiKey = new Promise((resolve, reject) => {\n",
              "            function loadScript(url) {\n",
              "            return new Promise(function(resolve, reject) {\n",
              "                let newScript = document.createElement(\"script\");\n",
              "                newScript.onerror = reject;\n",
              "                newScript.onload = resolve;\n",
              "                document.body.appendChild(newScript);\n",
              "                newScript.src = url;\n",
              "            });\n",
              "            }\n",
              "            loadScript(\"https://cdn.jsdelivr.net/npm/postmate/build/postmate.min.js\").then(() => {\n",
              "            const iframe = document.createElement('iframe')\n",
              "            iframe.style.cssText = \"width:0;height:0;border:none\"\n",
              "            document.body.appendChild(iframe)\n",
              "            const handshake = new Postmate({\n",
              "                container: iframe,\n",
              "                url: 'https://wandb.ai/authorize'\n",
              "            });\n",
              "            const timeout = setTimeout(() => reject(\"Couldn't auto authenticate\"), 5000)\n",
              "            handshake.then(function(child) {\n",
              "                child.on('authorize', data => {\n",
              "                    clearTimeout(timeout)\n",
              "                    resolve(data)\n",
              "                });\n",
              "            });\n",
              "            })\n",
              "        });\n",
              "    "
            ]
          },
          "metadata": {}
        },
        {
          "output_type": "stream",
          "name": "stderr",
          "text": [
            "\u001b[34m\u001b[1mwandb\u001b[0m: Logging into wandb.ai. (Learn how to deploy a W&B server locally: https://wandb.me/wandb-server)\n",
            "\u001b[34m\u001b[1mwandb\u001b[0m: You can find your API key in your browser here: https://wandb.ai/authorize\n",
            "wandb: Paste an API key from your profile and hit enter:"
          ]
        },
        {
          "name": "stdout",
          "output_type": "stream",
          "text": [
            " ··········\n"
          ]
        },
        {
          "output_type": "stream",
          "name": "stderr",
          "text": [
            "\u001b[34m\u001b[1mwandb\u001b[0m: \u001b[33mWARNING\u001b[0m If you're specifying your api key in code, ensure this code is not shared publicly.\n",
            "\u001b[34m\u001b[1mwandb\u001b[0m: \u001b[33mWARNING\u001b[0m Consider setting the WANDB_API_KEY environment variable, or running `wandb login` from the command line.\n",
            "\u001b[34m\u001b[1mwandb\u001b[0m: No netrc file found, creating one.\n",
            "\u001b[34m\u001b[1mwandb\u001b[0m: Appending key for api.wandb.ai to your netrc file: /root/.netrc\n",
            "\u001b[34m\u001b[1mwandb\u001b[0m: Currently logged in as: \u001b[33mb10090082\u001b[0m (\u001b[33mb10090082-\u001b[0m) to \u001b[32mhttps://api.wandb.ai\u001b[0m. Use \u001b[1m`wandb login --relogin`\u001b[0m to force relogin\n"
          ]
        },
        {
          "output_type": "display_data",
          "data": {
            "text/plain": [
              "<IPython.core.display.HTML object>"
            ],
            "text/html": [
              "Tracking run with wandb version 0.19.9"
            ]
          },
          "metadata": {}
        },
        {
          "output_type": "display_data",
          "data": {
            "text/plain": [
              "<IPython.core.display.HTML object>"
            ],
            "text/html": [
              "Run data is saved locally in <code>/content/wandb/run-20250409_025806-rrox4691</code>"
            ]
          },
          "metadata": {}
        },
        {
          "output_type": "display_data",
          "data": {
            "text/plain": [
              "<IPython.core.display.HTML object>"
            ],
            "text/html": [
              "Syncing run <strong><a href='https://wandb.ai/b10090082-/huggingface/runs/rrox4691' target=\"_blank\">output1</a></strong> to <a href='https://wandb.ai/b10090082-/huggingface' target=\"_blank\">Weights & Biases</a> (<a href='https://wandb.me/developer-guide' target=\"_blank\">docs</a>)<br>"
            ]
          },
          "metadata": {}
        },
        {
          "output_type": "display_data",
          "data": {
            "text/plain": [
              "<IPython.core.display.HTML object>"
            ],
            "text/html": [
              " View project at <a href='https://wandb.ai/b10090082-/huggingface' target=\"_blank\">https://wandb.ai/b10090082-/huggingface</a>"
            ]
          },
          "metadata": {}
        },
        {
          "output_type": "display_data",
          "data": {
            "text/plain": [
              "<IPython.core.display.HTML object>"
            ],
            "text/html": [
              " View run at <a href='https://wandb.ai/b10090082-/huggingface/runs/rrox4691' target=\"_blank\">https://wandb.ai/b10090082-/huggingface/runs/rrox4691</a>"
            ]
          },
          "metadata": {}
        },
        {
          "output_type": "display_data",
          "data": {
            "text/plain": [
              "<IPython.core.display.HTML object>"
            ],
            "text/html": [
              "\n",
              "    <div>\n",
              "      \n",
              "      <progress value='100' max='100' style='width:300px; height:20px; vertical-align: middle;'></progress>\n",
              "      [100/100 11:30, Epoch 0/1]\n",
              "    </div>\n",
              "    <table border=\"1\" class=\"dataframe\">\n",
              "  <thead>\n",
              " <tr style=\"text-align: left;\">\n",
              "      <th>Step</th>\n",
              "      <th>Training Loss</th>\n",
              "    </tr>\n",
              "  </thead>\n",
              "  <tbody>\n",
              "    <tr>\n",
              "      <td>1</td>\n",
              "      <td>5.531000</td>\n",
              "    </tr>\n",
              "    <tr>\n",
              "      <td>2</td>\n",
              "      <td>4.241900</td>\n",
              "    </tr>\n",
              "    <tr>\n",
              "      <td>3</td>\n",
              "      <td>3.530400</td>\n",
              "    </tr>\n",
              "    <tr>\n",
              "      <td>4</td>\n",
              "      <td>3.176400</td>\n",
              "    </tr>\n",
              "    <tr>\n",
              "      <td>5</td>\n",
              "      <td>2.537100</td>\n",
              "    </tr>\n",
              "    <tr>\n",
              "      <td>6</td>\n",
              "      <td>2.661800</td>\n",
              "    </tr>\n",
              "    <tr>\n",
              "      <td>7</td>\n",
              "      <td>2.403400</td>\n",
              "    </tr>\n",
              "    <tr>\n",
              "      <td>8</td>\n",
              "      <td>2.714900</td>\n",
              "    </tr>\n",
              "    <tr>\n",
              "      <td>9</td>\n",
              "      <td>2.633300</td>\n",
              "    </tr>\n",
              "    <tr>\n",
              "      <td>10</td>\n",
              "      <td>2.223200</td>\n",
              "    </tr>\n",
              "    <tr>\n",
              "      <td>11</td>\n",
              "      <td>2.236600</td>\n",
              "    </tr>\n",
              "    <tr>\n",
              "      <td>12</td>\n",
              "      <td>2.261700</td>\n",
              "    </tr>\n",
              "    <tr>\n",
              "      <td>13</td>\n",
              "      <td>2.281200</td>\n",
              "    </tr>\n",
              "    <tr>\n",
              "      <td>14</td>\n",
              "      <td>2.779000</td>\n",
              "    </tr>\n",
              "    <tr>\n",
              "      <td>15</td>\n",
              "      <td>2.105200</td>\n",
              "    </tr>\n",
              "    <tr>\n",
              "      <td>16</td>\n",
              "      <td>2.530500</td>\n",
              "    </tr>\n",
              "    <tr>\n",
              "      <td>17</td>\n",
              "      <td>2.210600</td>\n",
              "    </tr>\n",
              "    <tr>\n",
              "      <td>18</td>\n",
              "      <td>1.927900</td>\n",
              "    </tr>\n",
              "    <tr>\n",
              "      <td>19</td>\n",
              "      <td>1.800500</td>\n",
              "    </tr>\n",
              "    <tr>\n",
              "      <td>20</td>\n",
              "      <td>2.222200</td>\n",
              "    </tr>\n",
              "    <tr>\n",
              "      <td>21</td>\n",
              "      <td>2.146700</td>\n",
              "    </tr>\n",
              "    <tr>\n",
              "      <td>22</td>\n",
              "      <td>2.266500</td>\n",
              "    </tr>\n",
              "    <tr>\n",
              "      <td>23</td>\n",
              "      <td>1.910200</td>\n",
              "    </tr>\n",
              "    <tr>\n",
              "      <td>24</td>\n",
              "      <td>2.052600</td>\n",
              "    </tr>\n",
              "    <tr>\n",
              "      <td>25</td>\n",
              "      <td>2.031900</td>\n",
              "    </tr>\n",
              "    <tr>\n",
              "      <td>26</td>\n",
              "      <td>1.793800</td>\n",
              "    </tr>\n",
              "    <tr>\n",
              "      <td>27</td>\n",
              "      <td>2.244800</td>\n",
              "    </tr>\n",
              "    <tr>\n",
              "      <td>28</td>\n",
              "      <td>1.693000</td>\n",
              "    </tr>\n",
              "    <tr>\n",
              "      <td>29</td>\n",
              "      <td>2.040100</td>\n",
              "    </tr>\n",
              "    <tr>\n",
              "      <td>30</td>\n",
              "      <td>2.300400</td>\n",
              "    </tr>\n",
              "    <tr>\n",
              "      <td>31</td>\n",
              "      <td>2.435300</td>\n",
              "    </tr>\n",
              "    <tr>\n",
              "      <td>32</td>\n",
              "      <td>1.913400</td>\n",
              "    </tr>\n",
              "    <tr>\n",
              "      <td>33</td>\n",
              "      <td>1.819900</td>\n",
              "    </tr>\n",
              "    <tr>\n",
              "      <td>34</td>\n",
              "      <td>2.026000</td>\n",
              "    </tr>\n",
              "    <tr>\n",
              "      <td>35</td>\n",
              "      <td>2.374800</td>\n",
              "    </tr>\n",
              "    <tr>\n",
              "      <td>36</td>\n",
              "      <td>1.990100</td>\n",
              "    </tr>\n",
              "    <tr>\n",
              "      <td>37</td>\n",
              "      <td>1.871600</td>\n",
              "    </tr>\n",
              "    <tr>\n",
              "      <td>38</td>\n",
              "      <td>2.325300</td>\n",
              "    </tr>\n",
              "    <tr>\n",
              "      <td>39</td>\n",
              "      <td>1.986800</td>\n",
              "    </tr>\n",
              "    <tr>\n",
              "      <td>40</td>\n",
              "      <td>2.133200</td>\n",
              "    </tr>\n",
              "    <tr>\n",
              "      <td>41</td>\n",
              "      <td>2.246000</td>\n",
              "    </tr>\n",
              "    <tr>\n",
              "      <td>42</td>\n",
              "      <td>2.059300</td>\n",
              "    </tr>\n",
              "    <tr>\n",
              "      <td>43</td>\n",
              "      <td>1.965800</td>\n",
              "    </tr>\n",
              "    <tr>\n",
              "      <td>44</td>\n",
              "      <td>1.906800</td>\n",
              "    </tr>\n",
              "    <tr>\n",
              "      <td>45</td>\n",
              "      <td>1.820000</td>\n",
              "    </tr>\n",
              "    <tr>\n",
              "      <td>46</td>\n",
              "      <td>1.728100</td>\n",
              "    </tr>\n",
              "    <tr>\n",
              "      <td>47</td>\n",
              "      <td>1.721100</td>\n",
              "    </tr>\n",
              "    <tr>\n",
              "      <td>48</td>\n",
              "      <td>2.101300</td>\n",
              "    </tr>\n",
              "    <tr>\n",
              "      <td>49</td>\n",
              "      <td>2.284900</td>\n",
              "    </tr>\n",
              "    <tr>\n",
              "      <td>50</td>\n",
              "      <td>1.765600</td>\n",
              "    </tr>\n",
              "    <tr>\n",
              "      <td>51</td>\n",
              "      <td>2.153300</td>\n",
              "    </tr>\n",
              "    <tr>\n",
              "      <td>52</td>\n",
              "      <td>1.903700</td>\n",
              "    </tr>\n",
              "    <tr>\n",
              "      <td>53</td>\n",
              "      <td>2.170500</td>\n",
              "    </tr>\n",
              "    <tr>\n",
              "      <td>54</td>\n",
              "      <td>1.399200</td>\n",
              "    </tr>\n",
              "    <tr>\n",
              "      <td>55</td>\n",
              "      <td>2.070400</td>\n",
              "    </tr>\n",
              "    <tr>\n",
              "      <td>56</td>\n",
              "      <td>1.856400</td>\n",
              "    </tr>\n",
              "    <tr>\n",
              "      <td>57</td>\n",
              "      <td>2.246400</td>\n",
              "    </tr>\n",
              "    <tr>\n",
              "      <td>58</td>\n",
              "      <td>1.764300</td>\n",
              "    </tr>\n",
              "    <tr>\n",
              "      <td>59</td>\n",
              "      <td>2.029600</td>\n",
              "    </tr>\n",
              "    <tr>\n",
              "      <td>60</td>\n",
              "      <td>2.069500</td>\n",
              "    </tr>\n",
              "    <tr>\n",
              "      <td>61</td>\n",
              "      <td>1.959500</td>\n",
              "    </tr>\n",
              "    <tr>\n",
              "      <td>62</td>\n",
              "      <td>1.848600</td>\n",
              "    </tr>\n",
              "    <tr>\n",
              "      <td>63</td>\n",
              "      <td>2.005900</td>\n",
              "    </tr>\n",
              "    <tr>\n",
              "      <td>64</td>\n",
              "      <td>1.924600</td>\n",
              "    </tr>\n",
              "    <tr>\n",
              "      <td>65</td>\n",
              "      <td>1.687000</td>\n",
              "    </tr>\n",
              "    <tr>\n",
              "      <td>66</td>\n",
              "      <td>2.523500</td>\n",
              "    </tr>\n",
              "    <tr>\n",
              "      <td>67</td>\n",
              "      <td>2.367000</td>\n",
              "    </tr>\n",
              "    <tr>\n",
              "      <td>68</td>\n",
              "      <td>1.943200</td>\n",
              "    </tr>\n",
              "    <tr>\n",
              "      <td>69</td>\n",
              "      <td>2.261100</td>\n",
              "    </tr>\n",
              "    <tr>\n",
              "      <td>70</td>\n",
              "      <td>1.717200</td>\n",
              "    </tr>\n",
              "    <tr>\n",
              "      <td>71</td>\n",
              "      <td>1.813700</td>\n",
              "    </tr>\n",
              "    <tr>\n",
              "      <td>72</td>\n",
              "      <td>2.189700</td>\n",
              "    </tr>\n",
              "    <tr>\n",
              "      <td>73</td>\n",
              "      <td>1.734600</td>\n",
              "    </tr>\n",
              "    <tr>\n",
              "      <td>74</td>\n",
              "      <td>2.214900</td>\n",
              "    </tr>\n",
              "    <tr>\n",
              "      <td>75</td>\n",
              "      <td>1.217700</td>\n",
              "    </tr>\n",
              "    <tr>\n",
              "      <td>76</td>\n",
              "      <td>1.763500</td>\n",
              "    </tr>\n",
              "    <tr>\n",
              "      <td>77</td>\n",
              "      <td>1.733200</td>\n",
              "    </tr>\n",
              "    <tr>\n",
              "      <td>78</td>\n",
              "      <td>1.644000</td>\n",
              "    </tr>\n",
              "    <tr>\n",
              "      <td>79</td>\n",
              "      <td>2.111200</td>\n",
              "    </tr>\n",
              "    <tr>\n",
              "      <td>80</td>\n",
              "      <td>1.903200</td>\n",
              "    </tr>\n",
              "    <tr>\n",
              "      <td>81</td>\n",
              "      <td>1.693200</td>\n",
              "    </tr>\n",
              "    <tr>\n",
              "      <td>82</td>\n",
              "      <td>1.472100</td>\n",
              "    </tr>\n",
              "    <tr>\n",
              "      <td>83</td>\n",
              "      <td>1.728400</td>\n",
              "    </tr>\n",
              "    <tr>\n",
              "      <td>84</td>\n",
              "      <td>1.736400</td>\n",
              "    </tr>\n",
              "    <tr>\n",
              "      <td>85</td>\n",
              "      <td>1.711200</td>\n",
              "    </tr>\n",
              "    <tr>\n",
              "      <td>86</td>\n",
              "      <td>1.890200</td>\n",
              "    </tr>\n",
              "    <tr>\n",
              "      <td>87</td>\n",
              "      <td>1.794400</td>\n",
              "    </tr>\n",
              "    <tr>\n",
              "      <td>88</td>\n",
              "      <td>1.952600</td>\n",
              "    </tr>\n",
              "    <tr>\n",
              "      <td>89</td>\n",
              "      <td>1.573300</td>\n",
              "    </tr>\n",
              "    <tr>\n",
              "      <td>90</td>\n",
              "      <td>1.663500</td>\n",
              "    </tr>\n",
              "    <tr>\n",
              "      <td>91</td>\n",
              "      <td>1.848700</td>\n",
              "    </tr>\n",
              "    <tr>\n",
              "      <td>92</td>\n",
              "      <td>1.806600</td>\n",
              "    </tr>\n",
              "    <tr>\n",
              "      <td>93</td>\n",
              "      <td>1.982400</td>\n",
              "    </tr>\n",
              "    <tr>\n",
              "      <td>94</td>\n",
              "      <td>1.784800</td>\n",
              "    </tr>\n",
              "    <tr>\n",
              "      <td>95</td>\n",
              "      <td>1.754700</td>\n",
              "    </tr>\n",
              "    <tr>\n",
              "      <td>96</td>\n",
              "      <td>2.026100</td>\n",
              "    </tr>\n",
              "    <tr>\n",
              "      <td>97</td>\n",
              "      <td>1.414800</td>\n",
              "    </tr>\n",
              "    <tr>\n",
              "      <td>98</td>\n",
              "      <td>2.238900</td>\n",
              "    </tr>\n",
              "    <tr>\n",
              "      <td>99</td>\n",
              "      <td>1.689700</td>\n",
              "    </tr>\n",
              "    <tr>\n",
              "      <td>100</td>\n",
              "      <td>1.776200</td>\n",
              "    </tr>\n",
              "  </tbody>\n",
              "</table><p>"
            ]
          },
          "metadata": {}
        },
        {
          "output_type": "execute_result",
          "data": {
            "text/plain": [
              "TrainOutput(global_step=100, training_loss=2.087287734746933, metrics={'train_runtime': 718.8023, 'train_samples_per_second': 1.113, 'train_steps_per_second': 0.139, 'total_flos': 1214879302987776.0, 'train_loss': 2.087287734746933})"
            ]
          },
          "metadata": {},
          "execution_count": 14
        }
      ],
      "source": [
        "from trl import SFTConfig\n",
        "import transformers\n",
        "from trl import SFTTrainer\n",
        "\n",
        "trainer = SFTTrainer(\n",
        "    model=peft_model,\n",
        "    train_dataset=train_data,\n",
        "    eval_dataset=test_data,\n",
        "    peft_config=lora_config,\n",
        "    args=SFTConfig(\n",
        "        per_device_train_batch_size=2,\n",
        "        gradient_accumulation_steps=4,\n",
        "        max_steps=100,\n",
        "        learning_rate=2e-4,\n",
        "        output_dir=\"output1\",\n",
        "        # dataset_text_field=\"prompt\",\n",
        "        optim=\"paged_adamw_32bit\",\n",
        "        save_strategy=\"steps\",\n",
        "        report_to=None,\n",
        "        #report_to=\"wandb\",\n",
        "        logging_steps=1,\n",
        "        packing=False,\n",
        "        gradient_checkpointing=True,\n",
        "    ),\n",
        "    data_collator=transformers.DataCollatorForLanguageModeling(tokenizer, mlm=False),\n",
        ")\n",
        "trainer.train()"
      ]
    },
    {
      "cell_type": "markdown",
      "source": [
        "## 儲存Adapter\n",
        "- Huggingface的Token，<font color=red>一定要包含『write』權限</font>\n",
        "- <font color=red>??????????</font>/peft-model-repo，?????????請輸入自己在huggingface的帳號"
      ],
      "metadata": {
        "id": "U-0sdgzwzU_d"
      }
    },
    {
      "cell_type": "code",
      "execution_count": 15,
      "metadata": {
        "id": "LUlNYwtvb1xm",
        "colab": {
          "base_uri": "https://localhost:8080/",
          "height": 84,
          "referenced_widgets": [
            "85e7a19cea25433f97ac7d68fcd28997",
            "da0fc1bdb4794de88d091ecdde477879",
            "fcca60307510458e8a5982fda6d3282a",
            "f1ffb3f9613a4ad8a95284f70620b487",
            "093c07ac3368454383bdae0378d426b3",
            "2ec034aed2ff4d96a15aa3b0bea4f697",
            "3ffa0e0355bb47f09c71864871512409",
            "c202ebe35c2447b1a806ea3e3a134fcf",
            "aaa82905c37749ef82ac8d4f3c82bad3",
            "c86fc8b82a064a5bad59f2f7907c219e",
            "534aaddb45cd451d98c07803a87bbe3f"
          ]
        },
        "outputId": "f2cadd14-683b-4fa1-80b5-738bd84ec14b"
      },
      "outputs": [
        {
          "output_type": "display_data",
          "data": {
            "text/plain": [
              "adapter_model.safetensors:   0%|          | 0.00/332M [00:00<?, ?B/s]"
            ],
            "application/vnd.jupyter.widget-view+json": {
              "version_major": 2,
              "version_minor": 0,
              "model_id": "85e7a19cea25433f97ac7d68fcd28997"
            }
          },
          "metadata": {}
        },
        {
          "output_type": "execute_result",
          "data": {
            "text/plain": [
              "CommitInfo(commit_url='https://huggingface.co/yukilotus/peft-model-repo/commit/49841cbf9e0d4936811170f509d9114136a0b11b', commit_message='Upload model', commit_description='', oid='49841cbf9e0d4936811170f509d9114136a0b11b', pr_url=None, repo_url=RepoUrl('https://huggingface.co/yukilotus/peft-model-repo', endpoint='https://huggingface.co', repo_type='model', repo_id='yukilotus/peft-model-repo'), pr_revision=None, pr_num=None)"
            ],
            "application/vnd.google.colaboratory.intrinsic+json": {
              "type": "string"
            }
          },
          "metadata": {},
          "execution_count": 15
        }
      ],
      "source": [
        "peft_model.save_pretrained(\"peft_model\")\n",
        "repo_name = \"yukilotus/peft-model-repo\"  # 替換為你的 repository 名稱\n",
        "save_directory = \"./peft_model\"             # 模型儲存的本地路徑\n",
        "\n",
        "# 上傳模型到 Hugging Face\n",
        "peft_model.push_to_hub(repo_name)"
      ]
    },
    {
      "cell_type": "code",
      "execution_count": 16,
      "metadata": {
        "id": "oyXdMyKGb1xm",
        "colab": {
          "base_uri": "https://localhost:8080/",
          "height": 84,
          "referenced_widgets": [
            "d7fcf5a7ed4d43f6a8ebb48f30c16ac1",
            "aeeb7b08ad5445df82bfe5a15699e220",
            "48e8723844f349fe9946d7153fe222c6",
            "bd5d2cf8655a4396a11b1500c0f19f62",
            "fd76f649fb484922869a7da0847221e1",
            "ebd918a259c2412aabba2ac5690a68ac",
            "558bf1828de047d992e9e5a4a7197786",
            "0183d5d07d1b41cfa537a5b4ee07d3de",
            "bcd466e596b541fb999f9174557ebb06",
            "a44e5f132d624775b4bb1cb3fc63b466",
            "f0e0fbee104e4da9bfd085a8889cbc28"
          ]
        },
        "outputId": "11135e9a-57f8-41f3-95cd-93726504f718"
      },
      "outputs": [
        {
          "output_type": "display_data",
          "data": {
            "text/plain": [
              "Loading checkpoint shards:   0%|          | 0/3 [00:00<?, ?it/s]"
            ],
            "application/vnd.jupyter.widget-view+json": {
              "version_major": 2,
              "version_minor": 0,
              "model_id": "d7fcf5a7ed4d43f6a8ebb48f30c16ac1"
            }
          },
          "metadata": {}
        },
        {
          "output_type": "stream",
          "name": "stderr",
          "text": [
            "WARNING:accelerate.big_modeling:Some parameters are on the meta device because they were offloaded to the cpu.\n",
            "WARNING:accelerate.big_modeling:Some parameters are on the meta device because they were offloaded to the cpu.\n"
          ]
        }
      ],
      "source": [
        "base_model = AutoModelForCausalLM.from_pretrained(\n",
        "    model_id,\n",
        "    low_cpu_mem_usage=True,\n",
        "    return_dict=True,\n",
        "    torch_dtype=torch.float16,\n",
        "    device_map=\"auto\",\n",
        ")\n",
        "merged_model = PeftModel.from_pretrained(base_model, \"output1/checkpoint-100\")\n",
        "merged_model = merged_model.merge_and_unload()\n"
      ]
    },
    {
      "cell_type": "markdown",
      "source": [
        "## 一般來說只需要上傳Adapter即可，要使用LLM時，Adapter+基礎模型即可。這邊直接把兩者合併為(merged_model)"
      ],
      "metadata": {
        "id": "R0FlNV9J0DGh"
      }
    },
    {
      "cell_type": "code",
      "source": [
        "merged_model.save_pretrained(\"merged_model\", safe_serialization=True, push_to_hub=True)\n",
        "tokenizer.save_pretrained(\"merged_model\", push_to_hub=True)"
      ],
      "metadata": {
        "id": "vd88S7idrJdG",
        "colab": {
          "base_uri": "https://localhost:8080/",
          "height": 264,
          "referenced_widgets": [
            "0df981f5633342e4af3aa70e7e79aa47",
            "e6e3d732d55a4c1eae8ad9329d3c70fb",
            "3641fa95e8c645ff8fa790c63421f903",
            "550773be12c8479699dddb820626c2de",
            "3a488ebbed6b4487851abf875fe49801",
            "7316e815276344ada176aaed2341cbaa",
            "b04b0626e35e4e358f954ea928b582b2",
            "be6b6bc658e74b5582dd6a7ab24590fc",
            "58c5df3b4b054a87a980d221fb5ea952",
            "a73ff010d2f34a4eb37e523d189b4740",
            "42e96b81e7b740628d584bc225722bd0",
            "dd42f7b4c1924a849f2f523255c5e218",
            "0e916bfc4ae54ce79494f1d123136ab8",
            "209ffb7c151642a59c392850cb7f6873",
            "e921832f2da54eb29f83ba64cd85adc6",
            "a09f555452674944a06d70cc020e1fb4",
            "e8ce801227134000b29b2f8625c589f3",
            "244c961faf40404ca1b70affc1f99a5e",
            "b6c979d4fd5644c5a4bb0d3a5c9b7e2b",
            "0d3ca6313e664593ad8916dcb6b26b2c",
            "bee65e321f34424ebf05f796610e0c37",
            "946910aaf79a4c4d8a00d56eaaa874e9",
            "305801b62ee14fd6a231fd8207283a7b",
            "bf923ca8b3324f0d9affd69f9db322b6",
            "acdad2a2cd734181aaa69a4bac83163d",
            "6879d63348b249e6b2603a02fe19a5e6",
            "588407a134c7453496b94d818722de97",
            "5be17555d2d14611a025411d51d46e8d",
            "10db5d09562945d6acadcd047155cf06",
            "8526efa197c0493fb53b79cb0db5021e",
            "6e2b56152ad34e1ab118c1ec7d9b2216",
            "bc42c5f15b494d31a8278e1b9eb143d2",
            "7a87f6a2b56e419ca984c351faa8af1e",
            "2445bba39e7e4d11ab5cbc3968308a5d",
            "88fdcf449b1543519e88c0bead53b585",
            "5349a213edc245cab9dba96e74c02bac",
            "cbe8e3f2c5fc435cb5aa076879691281",
            "5280a611539640c891d942324607a491",
            "ff8db136193e4db392071072ee0cd613",
            "3ae98b404ee646628aa3ebc22156ba09",
            "2e5d0bf78f0b46eea6a6f6d5e0d71a33",
            "a24a85935eac4ee78523ba5fe8fe3ac1",
            "4004d7c522104be0ae165deab5d63364",
            "c1c9493e423245b898c235b3a20b0764",
            "5efcca9050de4e2ea067947a8a7df2f2",
            "6897c7617a244760a06558fde2c74496",
            "a8e381fc83c0434ab67f800b55e0d1bb",
            "8a7d97a0e25b4dcd9c07054d69b310e8",
            "c23aa04df7fb49cca8fe1c11fa53a6e3",
            "7ef7748f919b46d0ba0d40069a970cba",
            "2f44ba92817644c8b2ec752b3adef1dd",
            "981a7795c3314a029ee6af8a21b2fe67",
            "01614203ee0c41d2bfe9e228f2249ab4",
            "e42610713c8e471989f4563c2b879369",
            "3891bb20e1df4e2a9fdef47c12caa61d"
          ]
        },
        "outputId": "3386ee71-5b71-4692-fe77-d3c5f08e0212"
      },
      "execution_count": 17,
      "outputs": [
        {
          "output_type": "stream",
          "name": "stderr",
          "text": [
            "/usr/local/lib/python3.11/dist-packages/transformers/modeling_utils.py:3405: UserWarning: Attempting to save a model with offloaded modules. Ensure that unallocated cpu memory exceeds the `shard_size` (5GB default)\n",
            "  warnings.warn(\n"
          ]
        },
        {
          "output_type": "display_data",
          "data": {
            "text/plain": [
              "Saving checkpoint shards:   0%|          | 0/2 [00:00<?, ?it/s]"
            ],
            "application/vnd.jupyter.widget-view+json": {
              "version_major": 2,
              "version_minor": 0,
              "model_id": "0df981f5633342e4af3aa70e7e79aa47"
            }
          },
          "metadata": {}
        },
        {
          "output_type": "display_data",
          "data": {
            "text/plain": [
              "Upload 2 LFS files:   0%|          | 0/2 [00:00<?, ?it/s]"
            ],
            "application/vnd.jupyter.widget-view+json": {
              "version_major": 2,
              "version_minor": 0,
              "model_id": "dd42f7b4c1924a849f2f523255c5e218"
            }
          },
          "metadata": {}
        },
        {
          "output_type": "display_data",
          "data": {
            "text/plain": [
              "model-00001-of-00002.safetensors:   0%|          | 0.00/4.99G [00:00<?, ?B/s]"
            ],
            "application/vnd.jupyter.widget-view+json": {
              "version_major": 2,
              "version_minor": 0,
              "model_id": "305801b62ee14fd6a231fd8207283a7b"
            }
          },
          "metadata": {}
        },
        {
          "output_type": "display_data",
          "data": {
            "text/plain": [
              "model-00002-of-00002.safetensors:   0%|          | 0.00/241M [00:00<?, ?B/s]"
            ],
            "application/vnd.jupyter.widget-view+json": {
              "version_major": 2,
              "version_minor": 0,
              "model_id": "2445bba39e7e4d11ab5cbc3968308a5d"
            }
          },
          "metadata": {}
        },
        {
          "output_type": "display_data",
          "data": {
            "text/plain": [
              "tokenizer.json:   0%|          | 0.00/34.4M [00:00<?, ?B/s]"
            ],
            "application/vnd.jupyter.widget-view+json": {
              "version_major": 2,
              "version_minor": 0,
              "model_id": "5efcca9050de4e2ea067947a8a7df2f2"
            }
          },
          "metadata": {}
        },
        {
          "output_type": "execute_result",
          "data": {
            "text/plain": [
              "('merged_model/tokenizer_config.json',\n",
              " 'merged_model/special_tokens_map.json',\n",
              " 'merged_model/tokenizer.json')"
            ]
          },
          "metadata": {},
          "execution_count": 17
        }
      ]
    },
    {
      "cell_type": "markdown",
      "source": [
        "![PEFT.jpg](data:image/jpeg;base64,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)"
      ],
      "metadata": {
        "id": "U6O_3c1pFYzi"
      }
    }
  ],
  "metadata": {
    "kernelspec": {
      "display_name": "Python 3",
      "name": "python3"
    },
    "language_info": {
      "codemirror_mode": {
        "name": "ipython",
        "version": 3
      },
      "file_extension": ".py",
      "mimetype": "text/x-python",
      "name": "python",
      "nbconvert_exporter": "python",
      "pygments_lexer": "ipython3",
      "version": "3.11.5"
    },
    "colab": {
      "provenance": [],
      "gpuType": "T4"
    },
    "accelerator": "GPU"
  },
  "nbformat": 4,
  "nbformat_minor": 0
}
